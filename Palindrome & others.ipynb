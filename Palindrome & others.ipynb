{
 "cells": [
  {
   "cell_type": "code",
   "execution_count": 1,
   "metadata": {},
   "outputs": [
    {
     "name": "stdout",
     "output_type": "stream",
     "text": [
      "['anutforajaroftuna', 'madam', 'lol']\n"
     ]
    }
   ],
   "source": [
    "words = ['anutforajaroftuna', 'Python','madam', 'Java', 'Cool', 'lol']\n",
    "print(list(filter(lambda word: word == word[::-1], words)))"
   ]
  },
  {
   "cell_type": "code",
   "execution_count": 11,
   "metadata": {},
   "outputs": [
    {
     "name": "stdout",
     "output_type": "stream",
     "text": [
      "Please type a word: anutforajaroftuna\n",
      "anutforajaroftuna is a palindrome.\n"
     ]
    }
   ],
   "source": [
    "# Palindrome program\n",
    "words = input('Please type a word: ')\n",
    "if words == words[::-1]:\n",
    "        print(words+' is a palindrome.')\n",
    "else:\n",
    "    print(words+' is not a palindrome.')"
   ]
  },
  {
   "cell_type": "code",
   "execution_count": null,
   "metadata": {},
   "outputs": [],
   "source": []
  }
 ],
 "metadata": {
  "kernelspec": {
   "display_name": "Python 3",
   "language": "python",
   "name": "python3"
  },
  "language_info": {
   "codemirror_mode": {
    "name": "ipython",
    "version": 3
   },
   "file_extension": ".py",
   "mimetype": "text/x-python",
   "name": "python",
   "nbconvert_exporter": "python",
   "pygments_lexer": "ipython3",
   "version": "3.7.4"
  }
 },
 "nbformat": 4,
 "nbformat_minor": 4
}
