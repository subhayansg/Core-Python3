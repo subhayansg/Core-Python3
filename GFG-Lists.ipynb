{
 "cells": [
  {
   "cell_type": "markdown",
   "id": "developmental-organic",
   "metadata": {},
   "source": [
    "### Python program to interchange first and last elements in a list\n",
    "\n",
    "Input : [12, 35, 9, 56, 24]\n",
    "\n",
    "Output : [24, 35, 9, 56, 12]"
   ]
  },
  {
   "cell_type": "code",
   "execution_count": 2,
   "id": "neural-midnight",
   "metadata": {},
   "outputs": [
    {
     "name": "stdout",
     "output_type": "stream",
     "text": [
      "[24, 35, 9, 56, 12]\n"
     ]
    }
   ],
   "source": [
    "def swapList(inputList):\n",
    "    temp = inputList[len(inputList) - 1]\n",
    "    inputList[len(inputList) - 1] = inputList[0]\n",
    "    inputList[0] = temp\n",
    "    return inputList\n",
    "\n",
    "inputList = [12, 35, 9, 56, 24]\n",
    "  \n",
    "print(swapList(inputList)) "
   ]
  },
  {
   "cell_type": "code",
   "execution_count": 3,
   "id": "artificial-danish",
   "metadata": {},
   "outputs": [
    {
     "name": "stdout",
     "output_type": "stream",
     "text": [
      "[24, 35, 9, 56, 12]\n"
     ]
    }
   ],
   "source": [
    "def swapList2(inputList):\n",
    "    inputList[0], inputList[-1] = inputList[-1], inputList[0]\n",
    "    return inputList\n",
    "\n",
    "inputList = [12, 35, 9, 56, 24]\n",
    "  \n",
    "print(swapList2(inputList))"
   ]
  },
  {
   "cell_type": "code",
   "execution_count": 7,
   "id": "controlling-purple",
   "metadata": {},
   "outputs": [
    {
     "name": "stdout",
     "output_type": "stream",
     "text": [
      "[24, 35, 9, 56, 12]\n"
     ]
    }
   ],
   "source": [
    "def swapList3(inputList):\n",
    "    start, *middle, end = inputList\n",
    "    inputList = [end, *middle, start]\n",
    "    return inputList\n",
    "\n",
    "inputList = [12, 35, 9, 56, 24]\n",
    "  \n",
    "print(swapList3(inputList))"
   ]
  },
  {
   "cell_type": "markdown",
   "id": "fallen-idaho",
   "metadata": {},
   "source": [
    "### Python program to swap two elements in a list\n",
    "\n",
    "Input : List = [23, 65, 19, 90], pos1 = 1, pos2 = 3\n",
    "\n",
    "Output : [19, 65, 23, 90]\n",
    "\n",
    "Input : List = [1, 2, 3, 4, 5], pos1 = 2, pos2 = 5\n",
    "\n",
    "Output : [1, 5, 3, 4, 2]"
   ]
  },
  {
   "cell_type": "code",
   "execution_count": 10,
   "id": "regional-roberts",
   "metadata": {},
   "outputs": [
    {
     "name": "stdout",
     "output_type": "stream",
     "text": [
      "[19, 65, 23, 90]\n",
      "[1, 5, 3, 4, 2]\n"
     ]
    }
   ],
   "source": [
    "def swapTwoElelements(inputList, pos1, pos2):\n",
    "    inputList[pos1-1], inputList[pos2-1] = inputList[pos2-1], inputList[pos1-1]\n",
    "    return inputList\n",
    "\n",
    "li = [23, 65, 19, 90]\n",
    "\n",
    "print(swapTwoElelements(li, 1, 3))   \n",
    "\n",
    "li2 = [1, 2, 3, 4, 5]\n",
    "\n",
    "print(swapTwoElelements(li2, 2, 5)) "
   ]
  },
  {
   "cell_type": "markdown",
   "id": "fitting-bobby",
   "metadata": {},
   "source": [
    "### Find the smallest element in list"
   ]
  },
  {
   "cell_type": "code",
   "execution_count": 12,
   "id": "ambient-portrait",
   "metadata": {},
   "outputs": [
    {
     "name": "stdout",
     "output_type": "stream",
     "text": [
      "List:9, 5, 6, 3, 0\n",
      "The list is  [9, 5, 6, 3, 0]\n",
      "The smallest element in the list is  0\n"
     ]
    }
   ],
   "source": [
    "l=[ int(l) for l in input(\"List:\").split(\",\")]\n",
    "print(\"The list is \",l)\n",
    " \n",
    "# Assign first element as a minimum.\n",
    "min1 = l[0]\n",
    " \n",
    "for i in range(len(l)):\n",
    " \n",
    "    if l[i] < min1:\n",
    "        min1 = l[i]\n",
    " \n",
    "print(\"The smallest element in the list is \",min1)"
   ]
  },
  {
   "cell_type": "markdown",
   "id": "incredible-exclusive",
   "metadata": {},
   "source": [
    "### Test if List contains elements in Range"
   ]
  },
  {
   "cell_type": "code",
   "execution_count": 13,
   "id": "historical-income",
   "metadata": {},
   "outputs": [
    {
     "name": "stdout",
     "output_type": "stream",
     "text": [
      "The original list is : [4, 5, 6, 7, 3, 9]\n",
      "Does list contain all elements in range : True\n"
     ]
    }
   ],
   "source": [
    "test_list = [4, 5, 6, 7, 3, 9]\n",
    "  \n",
    "print(\"The original list is : \" + str(test_list))\n",
    "  \n",
    "i, j = 3, 10\n",
    "  \n",
    "# Test if List contains elements in Range\n",
    "res = True\n",
    "for ele in test_list:\n",
    "    if ele < i or ele >= j :\n",
    "        res = False \n",
    "        break\n",
    "  \n",
    "# printing result \n",
    "print (\"Does list contain all elements in range : \" + str(res))"
   ]
  },
  {
   "cell_type": "markdown",
   "id": "played-wells",
   "metadata": {},
   "source": [
    "### Extract elements with Frequency greater than K\n",
    "\n",
    "Input : test_list = [4, 6, 4, 3, 3, 4, 3, 4, 3, 8], K = 3\n",
    "\n",
    "Output : [4, 3]\n",
    "\n",
    "Explanation : Both elements occur 4 times.\n",
    "\n",
    "Input : test_list = [4, 6, 4, 3, 3, 4, 3, 4, 6, 6], K = 2\n",
    "\n",
    "Output : [4, 3, 6]\n",
    "\n",
    "Explanation : Occur 4, 3, and 3 times respectively."
   ]
  },
  {
   "cell_type": "code",
   "execution_count": 14,
   "id": "related-lancaster",
   "metadata": {},
   "outputs": [
    {
     "name": "stdout",
     "output_type": "stream",
     "text": [
      "The original list : [4, 6, 4, 3, 3, 4, 3, 7, 8, 8]\n",
      "The required elements : [4, 3]\n"
     ]
    }
   ],
   "source": [
    "test_list = [4, 6, 4, 3, 3, 4, 3, 7, 8, 8]\n",
    "  \n",
    "# printing string\n",
    "print(\"The original list : \" + str(test_list))\n",
    "  \n",
    "# initializing K \n",
    "K = 2\n",
    "  \n",
    "res = [] \n",
    "for i in test_list: \n",
    "      \n",
    "    # using count() to get count of elements\n",
    "    freq = test_list.count(i) \n",
    "      \n",
    "    # checking if not already entered in results\n",
    "    if freq > K and i not in res: \n",
    "        res.append(i)\n",
    "  \n",
    "# printing results \n",
    "print(\"The required elements : \" + str(res))"
   ]
  },
  {
   "cell_type": "markdown",
   "id": "raised-pottery",
   "metadata": {},
   "source": [
    "### Find second largest number in a list"
   ]
  },
  {
   "cell_type": "code",
   "execution_count": 17,
   "id": "married-discrimination",
   "metadata": {},
   "outputs": [
    {
     "name": "stdout",
     "output_type": "stream",
     "text": [
      "Second highest number is :  45\n"
     ]
    }
   ],
   "source": [
    "def findSecondLarg(list1):\n",
    "        \n",
    "    mx = max(list1[0], list1[1])\n",
    "    secondmx = min(list1[0], list1[1])\n",
    "\n",
    "    n = len(list1)\n",
    "    for i in range(2, n):\n",
    "        if list1[i] > mx:\n",
    "            secondmx, mx = mx, list1[i]\n",
    "        elif list1[i] > secondmx and list1[i] != mx:\n",
    "            secondmx = list1[i]\n",
    "            \n",
    "    return secondmx\n",
    "\n",
    "list1 = [10, 20, 4, 45, 99]\n",
    "\n",
    "print(\"Second highest number is : \",\\\n",
    "      str(findSecondLarg(list1)))"
   ]
  },
  {
   "cell_type": "markdown",
   "id": "polar-kernel",
   "metadata": {},
   "source": [
    "### print duplicates from a list of integers"
   ]
  },
  {
   "cell_type": "code",
   "execution_count": 18,
   "id": "laughing-recording",
   "metadata": {},
   "outputs": [
    {
     "name": "stdout",
     "output_type": "stream",
     "text": [
      "Counter({1: 4, 2: 3, 5: 2, 9: 2, 3: 1, 4: 1, 6: 1, 7: 1, 8: 1})\n",
      "[1, 2, 5, 9]\n"
     ]
    }
   ],
   "source": [
    "from collections import Counter\n",
    " \n",
    "l1 = [1,2,1,2,3,4,5,1,1,2,5,6,7,8,9,9]\n",
    "d = Counter(l1)\n",
    "print(d)\n",
    " \n",
    "new_list = list([item for item in d if d[item]>1])\n",
    "print(new_list)"
   ]
  },
  {
   "cell_type": "code",
   "execution_count": 25,
   "id": "protected-timothy",
   "metadata": {},
   "outputs": [
    {
     "name": "stdout",
     "output_type": "stream",
     "text": [
      "[1, 2, 5, 9]\n"
     ]
    }
   ],
   "source": [
    "def printDuplicates(li):\n",
    "    duplicates = []\n",
    "    for i in range(len(li)):\n",
    "        k = i+1\n",
    "        for j in range(k, len(li)):\n",
    "            if li[i] == li[j] and li[i] not in duplicates:\n",
    "                duplicates.append(li[i])\n",
    "            \n",
    "    return duplicates\n",
    "\n",
    "print(printDuplicates(l1))"
   ]
  },
  {
   "cell_type": "code",
   "execution_count": 20,
   "id": "expensive-prospect",
   "metadata": {},
   "outputs": [
    {
     "data": {
      "text/plain": [
       "[1, 2, 1, 2, 3, 4, 5, 1, 1, 2, 5, 6, 7, 8, 9, 9]"
      ]
     },
     "execution_count": 20,
     "metadata": {},
     "output_type": "execute_result"
    }
   ],
   "source": [
    "l1"
   ]
  },
  {
   "cell_type": "markdown",
   "id": "6eaf8d41",
   "metadata": {},
   "source": [
    "### Remove common elements from two list in Python"
   ]
  },
  {
   "cell_type": "code",
   "execution_count": 22,
   "id": "73396d9b",
   "metadata": {},
   "outputs": [],
   "source": [
    "list1 = [1, 2, 3, 4, 5]  \n",
    "list2 = [4, 5, 6, 7, 8,]"
   ]
  },
  {
   "cell_type": "code",
   "execution_count": 23,
   "id": "a3786880",
   "metadata": {},
   "outputs": [],
   "source": [
    "r = []\n",
    "for i in list1:\n",
    "    if i in list2:\n",
    "        r.append(i)\n",
    "\n",
    "for i in r:\n",
    "    list1.remove(i)\n",
    "    list2.remove(i)"
   ]
  },
  {
   "cell_type": "code",
   "execution_count": 24,
   "id": "5f6c22fc",
   "metadata": {},
   "outputs": [
    {
     "data": {
      "text/plain": [
       "[1, 2, 3]"
      ]
     },
     "execution_count": 24,
     "metadata": {},
     "output_type": "execute_result"
    }
   ],
   "source": [
    "list1"
   ]
  },
  {
   "cell_type": "code",
   "execution_count": 25,
   "id": "19ea1ba8",
   "metadata": {},
   "outputs": [
    {
     "data": {
      "text/plain": [
       "[6, 7, 8]"
      ]
     },
     "execution_count": 25,
     "metadata": {},
     "output_type": "execute_result"
    }
   ],
   "source": [
    "list2"
   ]
  },
  {
   "cell_type": "code",
   "execution_count": 26,
   "id": "35b45486",
   "metadata": {},
   "outputs": [],
   "source": [
    "a = [1, 2, 3, 4, 5]  \n",
    "b = [4, 5, 6, 7, 8,]\n",
    "for i in a[:]:\n",
    "    if i in b:\n",
    "        a.remove(i)\n",
    "        b.remove(i)"
   ]
  },
  {
   "cell_type": "code",
   "execution_count": 30,
   "id": "2892191e",
   "metadata": {},
   "outputs": [],
   "source": [
    "a = [1, 2, 3, 4, 5]  \n",
    "b = [4, 5, 6, 7, 8,]\n",
    "a, b = [i for i in a if i not in b],  [j for j in b if j not in a]"
   ]
  },
  {
   "cell_type": "code",
   "execution_count": 31,
   "id": "9a3abd47",
   "metadata": {},
   "outputs": [
    {
     "data": {
      "text/plain": [
       "[6, 7, 8]"
      ]
     },
     "execution_count": 31,
     "metadata": {},
     "output_type": "execute_result"
    }
   ],
   "source": [
    "b"
   ]
  },
  {
   "cell_type": "code",
   "execution_count": 32,
   "id": "3287f140",
   "metadata": {},
   "outputs": [
    {
     "data": {
      "text/plain": [
       "[1, 2, 3]"
      ]
     },
     "execution_count": 32,
     "metadata": {},
     "output_type": "execute_result"
    }
   ],
   "source": [
    "a"
   ]
  },
  {
   "cell_type": "code",
   "execution_count": null,
   "id": "d4125dff",
   "metadata": {},
   "outputs": [],
   "source": []
  }
 ],
 "metadata": {
  "kernelspec": {
   "display_name": "Python 3",
   "language": "python",
   "name": "python3"
  },
  "language_info": {
   "codemirror_mode": {
    "name": "ipython",
    "version": 3
   },
   "file_extension": ".py",
   "mimetype": "text/x-python",
   "name": "python",
   "nbconvert_exporter": "python",
   "pygments_lexer": "ipython3",
   "version": "3.8.8"
  }
 },
 "nbformat": 4,
 "nbformat_minor": 5
}
