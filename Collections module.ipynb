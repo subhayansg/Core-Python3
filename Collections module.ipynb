{
 "cells": [
  {
   "cell_type": "markdown",
   "metadata": {},
   "source": [
    "#### Counter"
   ]
  },
  {
   "cell_type": "code",
   "execution_count": 2,
   "metadata": {},
   "outputs": [],
   "source": [
    "from collections import Counter"
   ]
  },
  {
   "cell_type": "code",
   "execution_count": 3,
   "metadata": {},
   "outputs": [
    {
     "data": {
      "text/plain": [
       "Counter({1: 1, 2: 1, 34: 1, 5: 2, 6: 2, 7: 4})"
      ]
     },
     "execution_count": 3,
     "metadata": {},
     "output_type": "execute_result"
    }
   ],
   "source": [
    "li = [1,2,34,5,5,6,6,7,7,7,7]\n",
    "\n",
    "Counter(li)"
   ]
  },
  {
   "cell_type": "code",
   "execution_count": 4,
   "metadata": {},
   "outputs": [
    {
     "data": {
      "text/plain": [
       "Counter({'s': 3,\n",
       "         'h': 2,\n",
       "         'a': 3,\n",
       "         'k': 2,\n",
       "         'f': 2,\n",
       "         'H': 3,\n",
       "         'F': 2,\n",
       "         'L': 2,\n",
       "         'A': 2,\n",
       "         'l': 2,\n",
       "         'j': 1})"
      ]
     },
     "execution_count": 4,
     "metadata": {},
     "output_type": "execute_result"
    }
   ],
   "source": [
    "s = 'shssakkfhaHFLAHLFHAfljla'\n",
    "Counter(s)"
   ]
  },
  {
   "cell_type": "code",
   "execution_count": 11,
   "metadata": {},
   "outputs": [
    {
     "name": "stdout",
     "output_type": "stream",
     "text": [
      "[\"'How\", 'many', 'times', 'does', 'each', 'of', 'each', 'word', 'show', 'up', 'in', 'this', 'sentence', 'where', 'I', 'use', 'a', 'lot', 'of', 'up', 'up', 'up', 'up']\n"
     ]
    },
    {
     "data": {
      "text/plain": [
       "Counter({\"'How\": 1,\n",
       "         'many': 1,\n",
       "         'times': 1,\n",
       "         'does': 1,\n",
       "         'each': 2,\n",
       "         'of': 2,\n",
       "         'word': 1,\n",
       "         'show': 1,\n",
       "         'up': 5,\n",
       "         'in': 1,\n",
       "         'this': 1,\n",
       "         'sentence': 1,\n",
       "         'where': 1,\n",
       "         'I': 1,\n",
       "         'use': 1,\n",
       "         'a': 1,\n",
       "         'lot': 1})"
      ]
     },
     "execution_count": 11,
     "metadata": {},
     "output_type": "execute_result"
    }
   ],
   "source": [
    "s = ''''How many times does each of each word show up in\n",
    "this sentence where I use a lot of up up up up'''\n",
    "\n",
    "words = s.split()\n",
    "\n",
    "print(words)\n",
    "\n",
    "Counter(words)"
   ]
  },
  {
   "cell_type": "code",
   "execution_count": 23,
   "metadata": {},
   "outputs": [
    {
     "data": {
      "text/plain": [
       "Counter({\"'How\": 1,\n",
       "         'many': 1,\n",
       "         'times': 1,\n",
       "         'does': 1,\n",
       "         'each': 2,\n",
       "         'of': 2,\n",
       "         'word': 1,\n",
       "         'show': 1,\n",
       "         'up': 5,\n",
       "         'in': 1,\n",
       "         'this': 1,\n",
       "         'sentence': 1,\n",
       "         'where': 1,\n",
       "         'I': 1,\n",
       "         'use': 1,\n",
       "         'a': 1,\n",
       "         'lot': 1})"
      ]
     },
     "execution_count": 23,
     "metadata": {},
     "output_type": "execute_result"
    }
   ],
   "source": [
    "c = Counter(words)\n",
    "c"
   ]
  },
  {
   "cell_type": "code",
   "execution_count": 14,
   "metadata": {},
   "outputs": [
    {
     "data": {
      "text/plain": [
       "[('up', 5), ('each', 2)]"
      ]
     },
     "execution_count": 14,
     "metadata": {},
     "output_type": "execute_result"
    }
   ],
   "source": [
    "# Two most common words\n",
    "c.most_common(2)"
   ]
  },
  {
   "cell_type": "code",
   "execution_count": 29,
   "metadata": {},
   "outputs": [
    {
     "data": {
      "text/plain": [
       "[('up', 5),\n",
       " ('each', 2),\n",
       " ('of', 2),\n",
       " (\"'How\", 1),\n",
       " ('many', 1),\n",
       " ('times', 1),\n",
       " ('does', 1),\n",
       " ('word', 1),\n",
       " ('show', 1),\n",
       " ('in', 1),\n",
       " ('this', 1),\n",
       " ('sentence', 1)]"
      ]
     },
     "execution_count": 29,
     "metadata": {},
     "output_type": "execute_result"
    }
   ],
   "source": [
    "# n least common elements\n",
    "# c.most_common()[:-n-1:1]\n",
    "c.most_common()[:-5:1]"
   ]
  },
  {
   "cell_type": "code",
   "execution_count": 16,
   "metadata": {},
   "outputs": [
    {
     "data": {
      "text/plain": [
       "23"
      ]
     },
     "execution_count": 16,
     "metadata": {},
     "output_type": "execute_result"
    }
   ],
   "source": [
    "# no of total words in the string\n",
    "sum(c.values())"
   ]
  },
  {
   "cell_type": "code",
   "execution_count": 18,
   "metadata": {},
   "outputs": [],
   "source": [
    "# reset all counts\n",
    "# c.clear()"
   ]
  },
  {
   "cell_type": "code",
   "execution_count": 22,
   "metadata": {},
   "outputs": [
    {
     "data": {
      "text/plain": [
       "[\"'How\",\n",
       " 'many',\n",
       " 'times',\n",
       " 'does',\n",
       " 'each',\n",
       " 'of',\n",
       " 'word',\n",
       " 'show',\n",
       " 'up',\n",
       " 'in',\n",
       " 'this',\n",
       " 'sentence',\n",
       " 'where',\n",
       " 'I',\n",
       " 'use',\n",
       " 'a',\n",
       " 'lot']"
      ]
     },
     "execution_count": 22,
     "metadata": {},
     "output_type": "execute_result"
    }
   ],
   "source": [
    "# list unique elements\n",
    "list(c)\n",
    "\n",
    "\n",
    "# convert to a set\n",
    "# set(c)\n",
    "# convert to a regular dictionary\n",
    "# dict(c)"
   ]
  },
  {
   "cell_type": "code",
   "execution_count": 25,
   "metadata": {},
   "outputs": [
    {
     "data": {
      "text/plain": [
       "dict_items([(\"'How\", 1), ('many', 1), ('times', 1), ('does', 1), ('each', 2), ('of', 2), ('word', 1), ('show', 1), ('up', 5), ('in', 1), ('this', 1), ('sentence', 1), ('where', 1), ('I', 1), ('use', 1), ('a', 1), ('lot', 1)])"
      ]
     },
     "execution_count": 25,
     "metadata": {},
     "output_type": "execute_result"
    }
   ],
   "source": [
    "# Covert to a list of (element, count) pairs\n",
    "c.items()"
   ]
  },
  {
   "cell_type": "code",
   "execution_count": 30,
   "metadata": {},
   "outputs": [],
   "source": [
    "# removes zero and negative counts\n",
    "# c += Counter()"
   ]
  },
  {
   "cell_type": "markdown",
   "metadata": {},
   "source": [
    "### Defaultdict"
   ]
  },
  {
   "cell_type": "code",
   "execution_count": null,
   "metadata": {},
   "outputs": [],
   "source": []
  }
 ],
 "metadata": {
  "kernelspec": {
   "display_name": "Python 3",
   "language": "python",
   "name": "python3"
  },
  "language_info": {
   "codemirror_mode": {
    "name": "ipython",
    "version": 3
   },
   "file_extension": ".py",
   "mimetype": "text/x-python",
   "name": "python",
   "nbconvert_exporter": "python",
   "pygments_lexer": "ipython3",
   "version": "3.8.2"
  }
 },
 "nbformat": 4,
 "nbformat_minor": 4
}
