{
 "cells": [
  {
   "cell_type": "markdown",
   "metadata": {},
   "source": [
    "#### Normal method\n",
    "Say you want to find an American phone number in a string. You know the pattern if you’re American: three numbers, a hyphen, three numbers, a hyphen, and four numbers. Here’s an example: 415-555-4242.\n",
    "\n",
    "Let’s use a function named isPhoneNumber() to check whether a string matches this pattern, returning either True or False."
   ]
  },
  {
   "cell_type": "code",
   "execution_count": 1,
   "metadata": {},
   "outputs": [],
   "source": [
    "def isPhoneNumber():\n",
    "    text = input('Input the number: ')\n",
    "    if len(text) != 12:\n",
    "         return False\n",
    "    for i in range(0, 3):\n",
    "        if not text[i].isdecimal():\n",
    "             return False\n",
    "    if text[3] != '-':\n",
    "         return False\n",
    "    for i in range(4, 7):\n",
    "        if not text[i].isdecimal():\n",
    "             return False\n",
    "    if text[7] != '-':\n",
    "         return False\n",
    "    for i in range(8, 12):\n",
    "         if not text[i].isdecimal():\n",
    "            return False\n",
    "    return True"
   ]
  },
  {
   "cell_type": "code",
   "execution_count": 2,
   "metadata": {},
   "outputs": [
    {
     "name": "stdout",
     "output_type": "stream",
     "text": [
      "Input the number: 415-555-4242\n"
     ]
    },
    {
     "data": {
      "text/plain": [
       "True"
      ]
     },
     "execution_count": 2,
     "metadata": {},
     "output_type": "execute_result"
    }
   ],
   "source": [
    "isPhoneNumber()"
   ]
  },
  {
   "cell_type": "code",
   "execution_count": 3,
   "metadata": {},
   "outputs": [
    {
     "name": "stdout",
     "output_type": "stream",
     "text": [
      "Input the number: Is Moshi moshi a phone number\n"
     ]
    },
    {
     "data": {
      "text/plain": [
       "False"
      ]
     },
     "execution_count": 3,
     "metadata": {},
     "output_type": "execute_result"
    }
   ],
   "source": [
    "isPhoneNumber()"
   ]
  },
  {
   "cell_type": "code",
   "execution_count": 4,
   "metadata": {},
   "outputs": [],
   "source": [
    "import re"
   ]
  },
  {
   "cell_type": "code",
   "execution_count": 17,
   "metadata": {},
   "outputs": [
    {
     "name": "stdout",
     "output_type": "stream",
     "text": [
      "Phone number found: 415-555-4242\n",
      " \n",
      " Another method! \n",
      "\n",
      "Phone number found: 415-555-4242\n"
     ]
    }
   ],
   "source": [
    "phonenumber = re.compile(r'\\d\\d\\d-\\d\\d\\d-\\d\\d\\d\\d')\n",
    "matched_object = phonenumber.search('My number is 415-555-4242.')\n",
    "print('Phone number found: ' + matched_object.group())\n",
    "\n",
    "print(' \\n Another method! \\n')\n",
    "\n",
    "\n",
    "phone_number = re.compile(r'\\d{3}-\\d{3}-\\d{4}')\n",
    "matched_ob = phone_number.search('My number is 415-555-4242.')\n",
    "print('Phone number found: ' + matched_ob.group())"
   ]
  }
 ],
 "metadata": {
  "kernelspec": {
   "display_name": "Python 3",
   "language": "python",
   "name": "python3"
  },
  "language_info": {
   "codemirror_mode": {
    "name": "ipython",
    "version": 3
   },
   "file_extension": ".py",
   "mimetype": "text/x-python",
   "name": "python",
   "nbconvert_exporter": "python",
   "pygments_lexer": "ipython3",
   "version": "3.8.2"
  }
 },
 "nbformat": 4,
 "nbformat_minor": 4
}
