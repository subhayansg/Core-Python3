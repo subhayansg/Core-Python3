{
 "cells": [
  {
   "cell_type": "markdown",
   "id": "infinite-colorado",
   "metadata": {},
   "source": [
    "* Homogeneous means of same type.\n",
    "* Examples of collections with homogeneous elements.\n",
    "  * Collection of employees - `list`\n",
    "  * Collection of unique employees - `set`\n",
    "  * Collection of integers - `list`\n",
    "  * Collection of unique integers - `set`\n",
    "* Based up on the requirement we should use appropriate type of collection.\n",
    "* `list`\n",
    "  * Group of homogenous elements.\n",
    "  * There can be duplicates in the `list`.\n",
    "  * `list` can be created by enclosing elements in `[]` - example `[1, 2, 3, 4]`.\n",
    "  * Empty `list` can be initialized using `[]` or `list()`.\n",
    "* `set`\n",
    "  * Group of homogenous elements\n",
    "  * No duplicates allowed in the `set`. Even if you add same element more than once, such elements will be ignored.\n",
    "  * `set` can be created by enclosing elements in `{}` - example `{1, 2, 3, 4}`.\n",
    "  * Empty `set` can be initialized using `set()`. We cannot initialize empty set using `{}` as it will be treated as empty `dict`.\n",
    "* `list` and `set` can be analogous to Table with columns and rows while `dict` and `tuple` can be analogous to a row with in a table.\n",
    "* `list` can hold duplicate values while `set` can only hold unique values.\n",
    "* If you want to have a row with column names then we use `dict` otherwise we use `tuple`.\n",
    "\n",
    "\n",
    "##### we can insert element of different types in a list or set however we should use dict and tuple for that purpose"
   ]
  },
  {
   "cell_type": "code",
   "execution_count": 1,
   "id": "nutritional-reverse",
   "metadata": {},
   "outputs": [],
   "source": [
    "li = [1,2,'a']"
   ]
  },
  {
   "cell_type": "code",
   "execution_count": 2,
   "id": "periodic-impact",
   "metadata": {},
   "outputs": [
    {
     "data": {
      "text/plain": [
       "[1, 2, 'a']"
      ]
     },
     "execution_count": 2,
     "metadata": {},
     "output_type": "execute_result"
    }
   ],
   "source": [
    "li"
   ]
  },
  {
   "cell_type": "code",
   "execution_count": 3,
   "id": "verified-light",
   "metadata": {},
   "outputs": [],
   "source": [
    "s = set() # Initializing empty set"
   ]
  },
  {
   "cell_type": "code",
   "execution_count": 4,
   "id": "roman-integration",
   "metadata": {},
   "outputs": [
    {
     "data": {
      "text/plain": [
       "set"
      ]
     },
     "execution_count": 4,
     "metadata": {},
     "output_type": "execute_result"
    }
   ],
   "source": [
    "type(s)"
   ]
  },
  {
   "cell_type": "code",
   "execution_count": 5,
   "id": "understanding-calculator",
   "metadata": {},
   "outputs": [],
   "source": [
    "s = {} # s will be of type dict"
   ]
  },
  {
   "cell_type": "code",
   "execution_count": 6,
   "id": "basic-wheel",
   "metadata": {},
   "outputs": [
    {
     "data": {
      "text/plain": [
       "dict"
      ]
     },
     "execution_count": 6,
     "metadata": {},
     "output_type": "execute_result"
    }
   ],
   "source": [
    "type(s)"
   ]
  },
  {
   "cell_type": "markdown",
   "id": "northern-bidding",
   "metadata": {},
   "source": [
    "##### commonly used functions\n",
    "\n",
    "\n",
    "* `in` - check if element exists\n",
    "* `len` - to get the number of elements.\n",
    "* `sorted` - to sort the data (original collection will be untouched). Typically, we assign the result of sorting to a new collection.\n",
    "* `sum`, `min`, `max`, etc - arithmetic operations."
   ]
  },
  {
   "cell_type": "markdown",
   "id": "infrared-filter",
   "metadata": {},
   "source": [
    "##### sort() vs sorted()\n",
    "\n",
    "`sort()` is in place, actual list gets sorted\n",
    "\n",
    "`sorted()` is not in place. A new list is created"
   ]
  },
  {
   "cell_type": "code",
   "execution_count": 7,
   "id": "appointed-federation",
   "metadata": {},
   "outputs": [],
   "source": [
    "l = [4, 2, 3, 1]"
   ]
  },
  {
   "cell_type": "code",
   "execution_count": 8,
   "id": "regional-framework",
   "metadata": {},
   "outputs": [
    {
     "data": {
      "text/plain": [
       "[1, 2, 3, 4]"
      ]
     },
     "execution_count": 8,
     "metadata": {},
     "output_type": "execute_result"
    }
   ],
   "source": [
    "sorted(l)"
   ]
  },
  {
   "cell_type": "code",
   "execution_count": 9,
   "id": "certain-fantasy",
   "metadata": {},
   "outputs": [
    {
     "data": {
      "text/plain": [
       "[4, 2, 3, 1]"
      ]
     },
     "execution_count": 9,
     "metadata": {},
     "output_type": "execute_result"
    }
   ],
   "source": [
    "l"
   ]
  },
  {
   "cell_type": "code",
   "execution_count": 10,
   "id": "immediate-matter",
   "metadata": {},
   "outputs": [],
   "source": [
    "l.sort()"
   ]
  },
  {
   "cell_type": "code",
   "execution_count": 11,
   "id": "hybrid-latex",
   "metadata": {},
   "outputs": [
    {
     "data": {
      "text/plain": [
       "[1, 2, 3, 4]"
      ]
     },
     "execution_count": 11,
     "metadata": {},
     "output_type": "execute_result"
    }
   ],
   "source": [
    "l"
   ]
  },
  {
   "cell_type": "markdown",
   "id": "buried-motel",
   "metadata": {},
   "source": [
    "##### Adding to a list\n",
    "\n",
    "* `append` - to add elements at the end of the list.\n",
    "* `insert` - to insert an element at the index specified. All the elements from that index will be moved to right side.\n",
    "* `extend` - to extend the list by appending elements from other list.\n",
    "* We can also append the list using `+`"
   ]
  },
  {
   "cell_type": "code",
   "execution_count": 12,
   "id": "focal-college",
   "metadata": {},
   "outputs": [],
   "source": [
    "l = [1, 2, 3, 4]"
   ]
  },
  {
   "cell_type": "code",
   "execution_count": 13,
   "id": "medical-rental",
   "metadata": {},
   "outputs": [],
   "source": [
    "l.append?"
   ]
  },
  {
   "cell_type": "code",
   "execution_count": 14,
   "id": "fresh-queue",
   "metadata": {},
   "outputs": [],
   "source": [
    "l.append(5)"
   ]
  },
  {
   "cell_type": "code",
   "execution_count": 15,
   "id": "varying-notebook",
   "metadata": {},
   "outputs": [
    {
     "data": {
      "text/plain": [
       "[1, 2, 3, 4, 5]"
      ]
     },
     "execution_count": 15,
     "metadata": {},
     "output_type": "execute_result"
    }
   ],
   "source": [
    "l"
   ]
  },
  {
   "cell_type": "code",
   "execution_count": 16,
   "id": "integral-toner",
   "metadata": {},
   "outputs": [],
   "source": [
    "l = l + [6]"
   ]
  },
  {
   "cell_type": "code",
   "execution_count": 17,
   "id": "alpine-riding",
   "metadata": {},
   "outputs": [
    {
     "data": {
      "text/plain": [
       "[1, 2, 3, 4, 5, 6]"
      ]
     },
     "execution_count": 17,
     "metadata": {},
     "output_type": "execute_result"
    }
   ],
   "source": [
    "l"
   ]
  },
  {
   "cell_type": "code",
   "execution_count": 18,
   "id": "cosmetic-cleaning",
   "metadata": {},
   "outputs": [],
   "source": [
    "l = l + [7, 8, 9, 10]"
   ]
  },
  {
   "cell_type": "code",
   "execution_count": 19,
   "id": "pressing-pierre",
   "metadata": {},
   "outputs": [
    {
     "data": {
      "text/plain": [
       "[1, 2, 3, 4, 5, 6, 7, 8, 9, 10]"
      ]
     },
     "execution_count": 19,
     "metadata": {},
     "output_type": "execute_result"
    }
   ],
   "source": [
    "l"
   ]
  },
  {
   "cell_type": "code",
   "execution_count": 20,
   "id": "floating-ground",
   "metadata": {},
   "outputs": [],
   "source": [
    "l.insert(3, 13) # insert at 3rd index i.e., 4th position"
   ]
  },
  {
   "cell_type": "code",
   "execution_count": 21,
   "id": "hindu-yukon",
   "metadata": {},
   "outputs": [
    {
     "data": {
      "text/plain": [
       "[1, 2, 3, 13, 4, 5, 6, 7, 8, 9, 10]"
      ]
     },
     "execution_count": 21,
     "metadata": {},
     "output_type": "execute_result"
    }
   ],
   "source": [
    "l"
   ]
  },
  {
   "cell_type": "code",
   "execution_count": 22,
   "id": "natural-floor",
   "metadata": {},
   "outputs": [],
   "source": [
    "l.extend([11, 12])   # we can pass any iterable in extend such as a list"
   ]
  },
  {
   "cell_type": "code",
   "execution_count": 23,
   "id": "crazy-poverty",
   "metadata": {},
   "outputs": [
    {
     "data": {
      "text/plain": [
       "[1, 2, 3, 13, 4, 5, 6, 7, 8, 9, 10, 11, 12]"
      ]
     },
     "execution_count": 23,
     "metadata": {},
     "output_type": "execute_result"
    }
   ],
   "source": [
    "l"
   ]
  },
  {
   "cell_type": "code",
   "execution_count": 24,
   "id": "apart-input",
   "metadata": {},
   "outputs": [],
   "source": [
    "l.extend('a')"
   ]
  },
  {
   "cell_type": "code",
   "execution_count": 25,
   "id": "excess-schema",
   "metadata": {},
   "outputs": [
    {
     "data": {
      "text/plain": [
       "[1, 2, 3, 13, 4, 5, 6, 7, 8, 9, 10, 11, 12, 'a']"
      ]
     },
     "execution_count": 25,
     "metadata": {},
     "output_type": "execute_result"
    }
   ],
   "source": [
    "l"
   ]
  },
  {
   "cell_type": "code",
   "execution_count": 26,
   "id": "temporal-maximum",
   "metadata": {},
   "outputs": [],
   "source": [
    "l.extend({5,6})"
   ]
  },
  {
   "cell_type": "code",
   "execution_count": 27,
   "id": "impaired-league",
   "metadata": {},
   "outputs": [
    {
     "data": {
      "text/plain": [
       "[1, 2, 3, 13, 4, 5, 6, 7, 8, 9, 10, 11, 12, 'a', 5, 6]"
      ]
     },
     "execution_count": 27,
     "metadata": {},
     "output_type": "execute_result"
    }
   ],
   "source": [
    "l"
   ]
  },
  {
   "cell_type": "markdown",
   "id": "nonprofit-planning",
   "metadata": {},
   "source": [
    "##### add to a list without append"
   ]
  },
  {
   "cell_type": "code",
   "execution_count": 28,
   "id": "executive-victor",
   "metadata": {},
   "outputs": [],
   "source": [
    "x = [1, 2, 3]\n",
    "y = [4, 5, 6]"
   ]
  },
  {
   "cell_type": "code",
   "execution_count": 29,
   "id": "governmental-candle",
   "metadata": {},
   "outputs": [
    {
     "data": {
      "text/plain": [
       "[4, 5, 6, 1, 2, 3]"
      ]
     },
     "execution_count": 29,
     "metadata": {},
     "output_type": "execute_result"
    }
   ],
   "source": [
    "x[:0] = y\n",
    "x"
   ]
  },
  {
   "cell_type": "code",
   "execution_count": 30,
   "id": "oriental-longer",
   "metadata": {},
   "outputs": [],
   "source": [
    "x = [1, 2, 3]\n",
    "y = [4, 5, 6]"
   ]
  },
  {
   "cell_type": "code",
   "execution_count": 31,
   "id": "narrative-sound",
   "metadata": {},
   "outputs": [
    {
     "data": {
      "text/plain": [
       "[4, 5, 6]"
      ]
     },
     "execution_count": 31,
     "metadata": {},
     "output_type": "execute_result"
    }
   ],
   "source": [
    "x[0:] = y\n",
    "x"
   ]
  },
  {
   "cell_type": "code",
   "execution_count": 32,
   "id": "right-incident",
   "metadata": {},
   "outputs": [],
   "source": [
    "x = [1, 2, 3]\n",
    "y = [4, 5, 6]"
   ]
  },
  {
   "cell_type": "code",
   "execution_count": 33,
   "id": "elegant-wallace",
   "metadata": {},
   "outputs": [
    {
     "data": {
      "text/plain": [
       "[1, 2, 3, 4, 5, 6]"
      ]
     },
     "execution_count": 33,
     "metadata": {},
     "output_type": "execute_result"
    }
   ],
   "source": [
    "x[len(x):] = y\n",
    "x"
   ]
  },
  {
   "cell_type": "code",
   "execution_count": 34,
   "id": "german-holiday",
   "metadata": {},
   "outputs": [
    {
     "data": {
      "text/plain": [
       "[1, 2, 3, 4]"
      ]
     },
     "execution_count": 34,
     "metadata": {},
     "output_type": "execute_result"
    }
   ],
   "source": [
    "# appending a single element\n",
    "# same as x.append(4)\n",
    "x = [1, 2, 3]\n",
    "x[len(x):] = [4]\n",
    "x"
   ]
  },
  {
   "cell_type": "markdown",
   "id": "religious-testing",
   "metadata": {},
   "source": [
    "##### updating a list"
   ]
  },
  {
   "cell_type": "code",
   "execution_count": 35,
   "id": "surgical-prison",
   "metadata": {},
   "outputs": [],
   "source": [
    "l = [1, 2, 3, 4]"
   ]
  },
  {
   "cell_type": "code",
   "execution_count": 36,
   "id": "variable-bride",
   "metadata": {},
   "outputs": [],
   "source": [
    "l[1] = 100"
   ]
  },
  {
   "cell_type": "code",
   "execution_count": 37,
   "id": "dramatic-hardware",
   "metadata": {},
   "outputs": [
    {
     "data": {
      "text/plain": [
       "[1, 100, 3, 4]"
      ]
     },
     "execution_count": 37,
     "metadata": {},
     "output_type": "execute_result"
    }
   ],
   "source": [
    "l"
   ]
  },
  {
   "cell_type": "markdown",
   "id": "institutional-relation",
   "metadata": {},
   "source": [
    "##### deleting from a list\n",
    "\n",
    "* There are multiple functions to delete elements from list.\n",
    "  * `remove` - delete the first occurrence of the element from the list.\n",
    "  * `pop` - delete the element from the list using index.\n",
    "  * `clear` - deletes all the elements from the list."
   ]
  },
  {
   "cell_type": "code",
   "execution_count": 38,
   "id": "accredited-headset",
   "metadata": {},
   "outputs": [],
   "source": [
    "l = [1, 2, 3, 4, 6, 5, 6]"
   ]
  },
  {
   "cell_type": "code",
   "execution_count": 39,
   "id": "amazing-abuse",
   "metadata": {},
   "outputs": [],
   "source": [
    "l.remove(6) # removes first occurence of the specified element"
   ]
  },
  {
   "cell_type": "code",
   "execution_count": 40,
   "id": "second-vinyl",
   "metadata": {},
   "outputs": [
    {
     "data": {
      "text/plain": [
       "[1, 2, 3, 4, 5, 6]"
      ]
     },
     "execution_count": 40,
     "metadata": {},
     "output_type": "execute_result"
    }
   ],
   "source": [
    "l"
   ]
  },
  {
   "cell_type": "code",
   "execution_count": 41,
   "id": "weird-better",
   "metadata": {},
   "outputs": [
    {
     "data": {
      "text/plain": [
       "6"
      ]
     },
     "execution_count": 41,
     "metadata": {},
     "output_type": "execute_result"
    }
   ],
   "source": [
    "l.pop()"
   ]
  },
  {
   "cell_type": "code",
   "execution_count": 42,
   "id": "alert-capital",
   "metadata": {},
   "outputs": [
    {
     "data": {
      "text/plain": [
       "[1, 2, 3, 4, 5]"
      ]
     },
     "execution_count": 42,
     "metadata": {},
     "output_type": "execute_result"
    }
   ],
   "source": [
    "l"
   ]
  },
  {
   "cell_type": "code",
   "execution_count": 43,
   "id": "velvet-columbia",
   "metadata": {},
   "outputs": [
    {
     "data": {
      "text/plain": [
       "3"
      ]
     },
     "execution_count": 43,
     "metadata": {},
     "output_type": "execute_result"
    }
   ],
   "source": [
    "l.pop(2)   # remove from the index 2"
   ]
  },
  {
   "cell_type": "code",
   "execution_count": 44,
   "id": "tropical-resident",
   "metadata": {},
   "outputs": [
    {
     "data": {
      "text/plain": [
       "[1, 2, 4, 5]"
      ]
     },
     "execution_count": 44,
     "metadata": {},
     "output_type": "execute_result"
    }
   ],
   "source": [
    "l"
   ]
  },
  {
   "cell_type": "code",
   "execution_count": 45,
   "id": "internal-firewall",
   "metadata": {},
   "outputs": [],
   "source": [
    "l.clear()"
   ]
  },
  {
   "cell_type": "code",
   "execution_count": 46,
   "id": "informative-protection",
   "metadata": {},
   "outputs": [
    {
     "data": {
      "text/plain": [
       "[]"
      ]
     },
     "execution_count": 46,
     "metadata": {},
     "output_type": "execute_result"
    }
   ],
   "source": [
    "l"
   ]
  },
  {
   "cell_type": "markdown",
   "id": "indirect-checklist",
   "metadata": {},
   "source": [
    "##### Adding and Deleting elements - set"
   ]
  },
  {
   "cell_type": "markdown",
   "id": "exposed-detective",
   "metadata": {},
   "source": [
    "* We can add elements to `set` or update existing ones.\n",
    "  * `add`\n",
    "  * `update`\n",
    "  * `union`\n",
    "* We can delete elements from the `set` using different functions.\n",
    "  * `pop`\n",
    "  * `remove`\n",
    "  * `discard`\n",
    "  * `clear`"
   ]
  },
  {
   "cell_type": "code",
   "execution_count": 47,
   "id": "several-museum",
   "metadata": {},
   "outputs": [],
   "source": [
    "s = {1, 2, 3, 3, 3, 4, 4}"
   ]
  },
  {
   "cell_type": "code",
   "execution_count": 48,
   "id": "adjustable-academy",
   "metadata": {},
   "outputs": [
    {
     "data": {
      "text/plain": [
       "{1, 2, 3, 4}"
      ]
     },
     "execution_count": 48,
     "metadata": {},
     "output_type": "execute_result"
    }
   ],
   "source": [
    "s"
   ]
  },
  {
   "cell_type": "code",
   "execution_count": 49,
   "id": "automated-supplement",
   "metadata": {},
   "outputs": [],
   "source": [
    "s.add(5)"
   ]
  },
  {
   "cell_type": "code",
   "execution_count": 50,
   "id": "fifteen-replacement",
   "metadata": {},
   "outputs": [
    {
     "data": {
      "text/plain": [
       "{1, 2, 3, 4, 5}"
      ]
     },
     "execution_count": 50,
     "metadata": {},
     "output_type": "execute_result"
    }
   ],
   "source": [
    "s"
   ]
  },
  {
   "cell_type": "code",
   "execution_count": 51,
   "id": "infectious-baking",
   "metadata": {},
   "outputs": [],
   "source": [
    "s.update({4, 5, 6, 7}) # Updates the set on which update is invoked"
   ]
  },
  {
   "cell_type": "code",
   "execution_count": 52,
   "id": "toxic-extension",
   "metadata": {},
   "outputs": [
    {
     "data": {
      "text/plain": [
       "{1, 2, 3, 4, 5, 6, 7}"
      ]
     },
     "execution_count": 52,
     "metadata": {},
     "output_type": "execute_result"
    }
   ],
   "source": [
    "s"
   ]
  },
  {
   "cell_type": "code",
   "execution_count": 53,
   "id": "manufactured-gateway",
   "metadata": {},
   "outputs": [
    {
     "data": {
      "text/plain": [
       "{1, 2, 3, 4, 5, 6, 7, 8, 9}"
      ]
     },
     "execution_count": 53,
     "metadata": {},
     "output_type": "execute_result"
    }
   ],
   "source": [
    "s.union({8, 9}) # Creates new set"
   ]
  },
  {
   "cell_type": "code",
   "execution_count": 54,
   "id": "relative-litigation",
   "metadata": {},
   "outputs": [
    {
     "data": {
      "text/plain": [
       "{1, 2, 3, 4, 5, 6, 7}"
      ]
     },
     "execution_count": 54,
     "metadata": {},
     "output_type": "execute_result"
    }
   ],
   "source": [
    "s   # notice how original s was not updated"
   ]
  },
  {
   "cell_type": "markdown",
   "id": "finnish-consumer",
   "metadata": {},
   "source": [
    "##### What about joining 4 different sets?"
   ]
  },
  {
   "cell_type": "code",
   "execution_count": 1,
   "id": "automated-champion",
   "metadata": {},
   "outputs": [
    {
     "name": "stdout",
     "output_type": "stream",
     "text": [
      "{1, 2, 3, 4, 5, 6, 7, 8, 9}\n",
      "{1, 2, 3, 4, 5, 6, 7, 8, 9}\n"
     ]
    }
   ],
   "source": [
    "s1 = {1, 2, 3}\n",
    "s2 = {3, 4, 5}\n",
    "s3 = {5, 6, 7}\n",
    "s4 = {7, 8, 9}\n",
    "print(s1.union(s2).union(s3).union(s4))\n",
    "print(s1.union(s2, s3, s4))"
   ]
  },
  {
   "cell_type": "code",
   "execution_count": 2,
   "id": "received-subject",
   "metadata": {},
   "outputs": [
    {
     "data": {
      "text/plain": [
       "{1, 2, 3, 4, 5, 6, 7, 8, 9}"
      ]
     },
     "execution_count": 2,
     "metadata": {},
     "output_type": "execute_result"
    }
   ],
   "source": [
    "{*s1, *s2, *s3, *s4}"
   ]
  },
  {
   "cell_type": "code",
   "execution_count": 55,
   "id": "micro-netherlands",
   "metadata": {},
   "outputs": [
    {
     "data": {
      "text/plain": [
       "1"
      ]
     },
     "execution_count": 55,
     "metadata": {},
     "output_type": "execute_result"
    }
   ],
   "source": [
    "s.pop()"
   ]
  },
  {
   "cell_type": "code",
   "execution_count": 56,
   "id": "palestinian-operation",
   "metadata": {},
   "outputs": [
    {
     "data": {
      "text/plain": [
       "{2, 3, 4, 5, 6, 7}"
      ]
     },
     "execution_count": 56,
     "metadata": {},
     "output_type": "execute_result"
    }
   ],
   "source": [
    "s"
   ]
  },
  {
   "cell_type": "code",
   "execution_count": 57,
   "id": "corresponding-wireless",
   "metadata": {},
   "outputs": [],
   "source": [
    "s.remove(7)"
   ]
  },
  {
   "cell_type": "code",
   "execution_count": 58,
   "id": "seventh-operations",
   "metadata": {},
   "outputs": [
    {
     "data": {
      "text/plain": [
       "{2, 3, 4, 5, 6}"
      ]
     },
     "execution_count": 58,
     "metadata": {},
     "output_type": "execute_result"
    }
   ],
   "source": [
    "s"
   ]
  },
  {
   "cell_type": "code",
   "execution_count": 59,
   "id": "soviet-outreach",
   "metadata": {},
   "outputs": [
    {
     "ename": "KeyError",
     "evalue": "7",
     "output_type": "error",
     "traceback": [
      "\u001b[1;31m---------------------------------------------------------------------------\u001b[0m",
      "\u001b[1;31mKeyError\u001b[0m                                  Traceback (most recent call last)",
      "\u001b[1;32m<ipython-input-59-eac3f7550c18>\u001b[0m in \u001b[0;36m<module>\u001b[1;34m\u001b[0m\n\u001b[1;32m----> 1\u001b[1;33m \u001b[0ms\u001b[0m\u001b[1;33m.\u001b[0m\u001b[0mremove\u001b[0m\u001b[1;33m(\u001b[0m\u001b[1;36m7\u001b[0m\u001b[1;33m)\u001b[0m     \u001b[1;31m# 7 does not exist, throws KeyError\u001b[0m\u001b[1;33m\u001b[0m\u001b[1;33m\u001b[0m\u001b[0m\n\u001b[0m",
      "\u001b[1;31mKeyError\u001b[0m: 7"
     ]
    }
   ],
   "source": [
    "s.remove(7)     # 7 does not exist, throws KeyError"
   ]
  },
  {
   "cell_type": "code",
   "execution_count": 60,
   "id": "fancy-diving",
   "metadata": {},
   "outputs": [],
   "source": [
    "s.discard(7)     # 7 does not exist, no error thrown"
   ]
  },
  {
   "cell_type": "code",
   "execution_count": 61,
   "id": "laden-superior",
   "metadata": {},
   "outputs": [
    {
     "data": {
      "text/plain": [
       "{2, 3, 4, 5, 6}"
      ]
     },
     "execution_count": 61,
     "metadata": {},
     "output_type": "execute_result"
    }
   ],
   "source": [
    "s"
   ]
  },
  {
   "cell_type": "code",
   "execution_count": 62,
   "id": "classical-extent",
   "metadata": {},
   "outputs": [],
   "source": [
    "s.discard(2)"
   ]
  },
  {
   "cell_type": "code",
   "execution_count": 63,
   "id": "previous-paraguay",
   "metadata": {},
   "outputs": [
    {
     "data": {
      "text/plain": [
       "{3, 4, 5, 6}"
      ]
     },
     "execution_count": 63,
     "metadata": {},
     "output_type": "execute_result"
    }
   ],
   "source": [
    "s"
   ]
  },
  {
   "cell_type": "code",
   "execution_count": 64,
   "id": "billion-headquarters",
   "metadata": {},
   "outputs": [],
   "source": [
    "# Creating new collection retaining duplicates using 2 sets\n",
    "s1 = {'2013-07-25 00:00:00.0', '2013-07-26 00:00:00.0', '2014-01-25 00:00:00.0'}\n",
    "s2 = {'2013-08-25 00:00:00.0', '2013-08-26 00:00:00.0', '2014-01-25 00:00:00.0'}"
   ]
  },
  {
   "cell_type": "code",
   "execution_count": 65,
   "id": "ethical-explanation",
   "metadata": {},
   "outputs": [
    {
     "data": {
      "text/plain": [
       "{'2013-07-25 00:00:00.0',\n",
       " '2013-07-26 00:00:00.0',\n",
       " '2013-08-25 00:00:00.0',\n",
       " '2013-08-26 00:00:00.0',\n",
       " '2014-01-25 00:00:00.0'}"
      ]
     },
     "execution_count": 65,
     "metadata": {},
     "output_type": "execute_result"
    }
   ],
   "source": [
    "s1.union(s2) # duplicates are removed"
   ]
  },
  {
   "cell_type": "code",
   "execution_count": 66,
   "id": "answering-senator",
   "metadata": {},
   "outputs": [],
   "source": [
    "s = list(s1) + list(s2) # duplicates retained"
   ]
  },
  {
   "cell_type": "code",
   "execution_count": 67,
   "id": "still-masters",
   "metadata": {},
   "outputs": [
    {
     "data": {
      "text/plain": [
       "['2013-07-26 00:00:00.0',\n",
       " '2013-07-25 00:00:00.0',\n",
       " '2014-01-25 00:00:00.0',\n",
       " '2013-08-26 00:00:00.0',\n",
       " '2013-08-25 00:00:00.0',\n",
       " '2014-01-25 00:00:00.0']"
      ]
     },
     "execution_count": 67,
     "metadata": {},
     "output_type": "execute_result"
    }
   ],
   "source": [
    "s"
   ]
  },
  {
   "cell_type": "code",
   "execution_count": 68,
   "id": "civilian-compilation",
   "metadata": {},
   "outputs": [
    {
     "data": {
      "text/plain": [
       "{'2013-07-25 00:00:00.0',\n",
       " '2013-07-26 00:00:00.0',\n",
       " '2013-08-25 00:00:00.0',\n",
       " '2013-08-26 00:00:00.0',\n",
       " '2014-01-25 00:00:00.0'}"
      ]
     },
     "execution_count": 68,
     "metadata": {},
     "output_type": "execute_result"
    }
   ],
   "source": [
    "set(s)"
   ]
  },
  {
   "cell_type": "markdown",
   "id": "minute-brass",
   "metadata": {},
   "source": [
    "* `dict`\n",
    "  * Group of heterogeneous elements\n",
    "  * Each element is a key value pair.\n",
    "  * All the keys are unique in the `dict`.\n",
    "  * `dict` can be created by enclosing elements in `{}`. Key Value pair in each element are separated by `:` - example `{1: 'a', 2: 'b', 3: 'c', 4: 'd'}`\n",
    "  * Empty `dict` can be initialized using `{}` or `dict()`.\n",
    "* `tuple`\n",
    "  * Group of heterogeneous elements.\n",
    "  * We can access the elements in `tuple` only by positional notation (by using index)\n",
    "  * `tuple` can be created by enclosing elements in `()` - example `(1, 2, 3, 4)`."
   ]
  },
  {
   "cell_type": "markdown",
   "id": "confirmed-alloy",
   "metadata": {},
   "source": [
    "##### Accessing elements in a tuple\n",
    "\n",
    "* `tuple` is by definition immutable and hence we will not be able to add elements to a tuple or delete elements from a tuple.\n",
    "* Only functions that are available are `count` and `index`.\n",
    "* `count` gives number of times an element is repeated in a tuple.\n",
    "* `index` returns the position of element in a tuple. `index` can take up to 3 arguments - `element`, `start` and `stop`.`"
   ]
  },
  {
   "cell_type": "code",
   "execution_count": 69,
   "id": "acquired-executive",
   "metadata": {},
   "outputs": [],
   "source": [
    "t = (1, 2, 3, 4, 4, 6, 1, 2, 3)"
   ]
  },
  {
   "cell_type": "code",
   "execution_count": 70,
   "id": "expressed-broadcast",
   "metadata": {},
   "outputs": [
    {
     "name": "stdout",
     "output_type": "stream",
     "text": [
      "Help on tuple object:\n",
      "\n",
      "class tuple(object)\n",
      " |  tuple(iterable=(), /)\n",
      " |  \n",
      " |  Built-in immutable sequence.\n",
      " |  \n",
      " |  If no argument is given, the constructor returns an empty tuple.\n",
      " |  If iterable is specified the tuple is initialized from iterable's items.\n",
      " |  \n",
      " |  If the argument is a tuple, the return value is the same object.\n",
      " |  \n",
      " |  Built-in subclasses:\n",
      " |      asyncgen_hooks\n",
      " |      UnraisableHookArgs\n",
      " |  \n",
      " |  Methods defined here:\n",
      " |  \n",
      " |  __add__(self, value, /)\n",
      " |      Return self+value.\n",
      " |  \n",
      " |  __contains__(self, key, /)\n",
      " |      Return key in self.\n",
      " |  \n",
      " |  __eq__(self, value, /)\n",
      " |      Return self==value.\n",
      " |  \n",
      " |  __ge__(self, value, /)\n",
      " |      Return self>=value.\n",
      " |  \n",
      " |  __getattribute__(self, name, /)\n",
      " |      Return getattr(self, name).\n",
      " |  \n",
      " |  __getitem__(self, key, /)\n",
      " |      Return self[key].\n",
      " |  \n",
      " |  __getnewargs__(self, /)\n",
      " |  \n",
      " |  __gt__(self, value, /)\n",
      " |      Return self>value.\n",
      " |  \n",
      " |  __hash__(self, /)\n",
      " |      Return hash(self).\n",
      " |  \n",
      " |  __iter__(self, /)\n",
      " |      Implement iter(self).\n",
      " |  \n",
      " |  __le__(self, value, /)\n",
      " |      Return self<=value.\n",
      " |  \n",
      " |  __len__(self, /)\n",
      " |      Return len(self).\n",
      " |  \n",
      " |  __lt__(self, value, /)\n",
      " |      Return self<value.\n",
      " |  \n",
      " |  __mul__(self, value, /)\n",
      " |      Return self*value.\n",
      " |  \n",
      " |  __ne__(self, value, /)\n",
      " |      Return self!=value.\n",
      " |  \n",
      " |  __repr__(self, /)\n",
      " |      Return repr(self).\n",
      " |  \n",
      " |  __rmul__(self, value, /)\n",
      " |      Return value*self.\n",
      " |  \n",
      " |  count(self, value, /)\n",
      " |      Return number of occurrences of value.\n",
      " |  \n",
      " |  index(self, value, start=0, stop=9223372036854775807, /)\n",
      " |      Return first index of value.\n",
      " |      \n",
      " |      Raises ValueError if the value is not present.\n",
      " |  \n",
      " |  ----------------------------------------------------------------------\n",
      " |  Static methods defined here:\n",
      " |  \n",
      " |  __new__(*args, **kwargs) from builtins.type\n",
      " |      Create and return a new object.  See help(type) for accurate signature.\n",
      "\n"
     ]
    }
   ],
   "source": [
    "help(t)"
   ]
  },
  {
   "cell_type": "code",
   "execution_count": 71,
   "id": "catholic-partner",
   "metadata": {},
   "outputs": [],
   "source": [
    "t.count?"
   ]
  },
  {
   "cell_type": "code",
   "execution_count": 72,
   "id": "royal-indicator",
   "metadata": {},
   "outputs": [
    {
     "data": {
      "text/plain": [
       "(1, 2, 3, 4, 4, 6, 1, 2, 3)"
      ]
     },
     "execution_count": 72,
     "metadata": {},
     "output_type": "execute_result"
    }
   ],
   "source": [
    "t"
   ]
  },
  {
   "cell_type": "code",
   "execution_count": 73,
   "id": "psychological-story",
   "metadata": {},
   "outputs": [
    {
     "data": {
      "text/plain": [
       "2"
      ]
     },
     "execution_count": 73,
     "metadata": {},
     "output_type": "execute_result"
    }
   ],
   "source": [
    "t.count(4)"
   ]
  },
  {
   "cell_type": "code",
   "execution_count": 74,
   "id": "filled-nightlife",
   "metadata": {},
   "outputs": [
    {
     "data": {
      "text/plain": [
       "7"
      ]
     },
     "execution_count": 74,
     "metadata": {},
     "output_type": "execute_result"
    }
   ],
   "source": [
    "t.index(2, 3) # Scans all the elements starting from 4th,returns the first occurence of 2"
   ]
  },
  {
   "cell_type": "code",
   "execution_count": 75,
   "id": "industrial-robin",
   "metadata": {},
   "outputs": [
    {
     "data": {
      "text/plain": [
       "5"
      ]
     },
     "execution_count": 75,
     "metadata": {},
     "output_type": "execute_result"
    }
   ],
   "source": [
    "t.index(6, 3, 6) # Scans all the elements starting from 4th till 6th, returns the first occurence of 6 in that range"
   ]
  },
  {
   "cell_type": "code",
   "execution_count": 76,
   "id": "suffering-guitar",
   "metadata": {},
   "outputs": [
    {
     "ename": "ValueError",
     "evalue": "tuple.index(x): x not in tuple",
     "output_type": "error",
     "traceback": [
      "\u001b[1;31m---------------------------------------------------------------------------\u001b[0m",
      "\u001b[1;31mValueError\u001b[0m                                Traceback (most recent call last)",
      "\u001b[1;32m<ipython-input-76-e889750eb7b1>\u001b[0m in \u001b[0;36m<module>\u001b[1;34m\u001b[0m\n\u001b[1;32m----> 1\u001b[1;33m \u001b[0mt\u001b[0m\u001b[1;33m.\u001b[0m\u001b[0mindex\u001b[0m\u001b[1;33m(\u001b[0m\u001b[1;36m6\u001b[0m\u001b[1;33m,\u001b[0m \u001b[1;36m3\u001b[0m\u001b[1;33m,\u001b[0m \u001b[1;36m5\u001b[0m\u001b[1;33m)\u001b[0m \u001b[1;31m# Scans all the elements starting from 4th till 5th, values error as 6 is not in that range\u001b[0m\u001b[1;33m\u001b[0m\u001b[1;33m\u001b[0m\u001b[0m\n\u001b[0m",
      "\u001b[1;31mValueError\u001b[0m: tuple.index(x): x not in tuple"
     ]
    }
   ],
   "source": [
    "t.index(6, 3, 5) # Scans all the elements starting from 4th till 5th, values error as 6 is not in that range"
   ]
  },
  {
   "cell_type": "markdown",
   "id": "adequate-charles",
   "metadata": {},
   "source": [
    "##### Accessing elements in a dict\n",
    "\n",
    "* We can access a value of a particular element in `dict` by passing key `d[key]`. If the key does not exists, it will throw **KeyError**.\n",
    "* `get` also can be used to access a value of particular element in `dict` by passing key as argument. However, if key does not exists, it will return None.\n",
    "* We can also pass a default value to `get`.\n",
    "* We can get all the keys in the form of set like object by using `keys` and all the values in the form of list like object by using `values`.\n",
    "* We can also use `items` to convert a `dict` into a set like object with pairs. Each element (which is a pair) in the set like object will be a tuple.\n",
    "* Let us see few examples."
   ]
  },
  {
   "cell_type": "code",
   "execution_count": 77,
   "id": "certain-spain",
   "metadata": {},
   "outputs": [],
   "source": [
    "d = {'id': 1, 'first_name': 'Scott', 'last_name': 'Tiger', 'amount': 1000.0}"
   ]
  },
  {
   "cell_type": "code",
   "execution_count": 78,
   "id": "standard-surveillance",
   "metadata": {},
   "outputs": [
    {
     "data": {
      "text/plain": [
       "1"
      ]
     },
     "execution_count": 78,
     "metadata": {},
     "output_type": "execute_result"
    }
   ],
   "source": [
    "d['id']"
   ]
  },
  {
   "cell_type": "code",
   "execution_count": 79,
   "id": "equal-shelter",
   "metadata": {},
   "outputs": [
    {
     "data": {
      "text/plain": [
       "'Scott'"
      ]
     },
     "execution_count": 79,
     "metadata": {},
     "output_type": "execute_result"
    }
   ],
   "source": [
    "d['first_name']"
   ]
  },
  {
   "cell_type": "code",
   "execution_count": 80,
   "id": "atmospheric-brush",
   "metadata": {},
   "outputs": [
    {
     "ename": "KeyError",
     "evalue": "'commission_pct'",
     "output_type": "error",
     "traceback": [
      "\u001b[1;31m---------------------------------------------------------------------------\u001b[0m",
      "\u001b[1;31mKeyError\u001b[0m                                  Traceback (most recent call last)",
      "\u001b[1;32m<ipython-input-80-583ad3d358bd>\u001b[0m in \u001b[0;36m<module>\u001b[1;34m\u001b[0m\n\u001b[1;32m----> 1\u001b[1;33m \u001b[0md\u001b[0m\u001b[1;33m[\u001b[0m\u001b[1;34m'commission_pct'\u001b[0m\u001b[1;33m]\u001b[0m \u001b[1;31m# throws key error\u001b[0m\u001b[1;33m\u001b[0m\u001b[1;33m\u001b[0m\u001b[0m\n\u001b[0m",
      "\u001b[1;31mKeyError\u001b[0m: 'commission_pct'"
     ]
    }
   ],
   "source": [
    "d['commission_pct'] # throws key error"
   ]
  },
  {
   "cell_type": "code",
   "execution_count": 81,
   "id": "acting-measure",
   "metadata": {},
   "outputs": [
    {
     "data": {
      "text/plain": [
       "'Scott'"
      ]
     },
     "execution_count": 81,
     "metadata": {},
     "output_type": "execute_result"
    }
   ],
   "source": [
    "d.get('first_name')"
   ]
  },
  {
   "cell_type": "code",
   "execution_count": 82,
   "id": "furnished-reducing",
   "metadata": {},
   "outputs": [],
   "source": [
    "d.get('commission_pct') # Returns None"
   ]
  },
  {
   "cell_type": "code",
   "execution_count": 83,
   "id": "flying-birth",
   "metadata": {},
   "outputs": [
    {
     "data": {
      "text/plain": [
       "'Scott'"
      ]
     },
     "execution_count": 83,
     "metadata": {},
     "output_type": "execute_result"
    }
   ],
   "source": [
    "d.get('first_name', 'Some First Name')   # 'Some First Name' is a default value when key is not found"
   ]
  },
  {
   "cell_type": "code",
   "execution_count": 84,
   "id": "varying-merchant",
   "metadata": {},
   "outputs": [
    {
     "data": {
      "text/plain": [
       "0"
      ]
     },
     "execution_count": 84,
     "metadata": {},
     "output_type": "execute_result"
    }
   ],
   "source": [
    "d.get('commission_pct', 0) "
   ]
  },
  {
   "cell_type": "code",
   "execution_count": 85,
   "id": "progressive-definition",
   "metadata": {},
   "outputs": [
    {
     "data": {
      "text/plain": [
       "dict_keys(['id', 'first_name', 'last_name', 'amount'])"
      ]
     },
     "execution_count": 85,
     "metadata": {},
     "output_type": "execute_result"
    }
   ],
   "source": [
    "d.keys()"
   ]
  },
  {
   "cell_type": "code",
   "execution_count": 86,
   "id": "damaged-sphere",
   "metadata": {},
   "outputs": [
    {
     "data": {
      "text/plain": [
       "dict_values([1, 'Scott', 'Tiger', 1000.0])"
      ]
     },
     "execution_count": 86,
     "metadata": {},
     "output_type": "execute_result"
    }
   ],
   "source": [
    "d.values()"
   ]
  },
  {
   "cell_type": "code",
   "execution_count": 87,
   "id": "revolutionary-queue",
   "metadata": {},
   "outputs": [
    {
     "data": {
      "text/plain": [
       "dict_items([('id', 1), ('first_name', 'Scott'), ('last_name', 'Tiger'), ('amount', 1000.0)])"
      ]
     },
     "execution_count": 87,
     "metadata": {},
     "output_type": "execute_result"
    }
   ],
   "source": [
    "d.items()"
   ]
  },
  {
   "cell_type": "code",
   "execution_count": 88,
   "id": "korean-sperm",
   "metadata": {},
   "outputs": [
    {
     "data": {
      "text/plain": [
       "('id', 1)"
      ]
     },
     "execution_count": 88,
     "metadata": {},
     "output_type": "execute_result"
    }
   ],
   "source": [
    "list(d.items())[0]"
   ]
  },
  {
   "cell_type": "code",
   "execution_count": 89,
   "id": "surrounded-layer",
   "metadata": {},
   "outputs": [
    {
     "data": {
      "text/plain": [
       "tuple"
      ]
     },
     "execution_count": 89,
     "metadata": {},
     "output_type": "execute_result"
    }
   ],
   "source": [
    "type(list(d.items())[1])"
   ]
  },
  {
   "cell_type": "markdown",
   "id": "communist-seating",
   "metadata": {},
   "source": [
    "##### manipulating dict\n",
    "\n",
    "* We can add new key value pairs to `dict` by using typical assignment.\n",
    "* We can also use assignment operation to update existing key value pair in the `dict`.\n",
    "* `setdefault` can be used to get the element from the `dict` by using key. If key does not exist, it will update the `dict` with the key passed along with default value.\n",
    "* `update` can be used to merge a list of pairs (2 tuples) or a `dict` into the `dict`.\n",
    "* Elements from the dict can be removed using functions like `pop` and `popitem`.\n",
    "  * `pop` is typically used to remove the element using key.\n",
    "  * `popitem` is used to remove one of the item (typically last) from the `dict`."
   ]
  },
  {
   "cell_type": "code",
   "execution_count": 90,
   "id": "contemporary-surgery",
   "metadata": {},
   "outputs": [],
   "source": [
    "d = {'id': 1, 'first_name': 'Scott', 'last_name': 'Tiger', 'amount': 1000.0}"
   ]
  },
  {
   "cell_type": "code",
   "execution_count": 91,
   "id": "sixth-asian",
   "metadata": {},
   "outputs": [],
   "source": [
    "d['commission_pct'] = 10 # Adding Element"
   ]
  },
  {
   "cell_type": "code",
   "execution_count": 92,
   "id": "rational-shade",
   "metadata": {},
   "outputs": [],
   "source": [
    "d['phone_numbers'] = 1234567890"
   ]
  },
  {
   "cell_type": "code",
   "execution_count": 93,
   "id": "meaning-welding",
   "metadata": {},
   "outputs": [
    {
     "data": {
      "text/plain": [
       "{'id': 1,\n",
       " 'first_name': 'Scott',\n",
       " 'last_name': 'Tiger',\n",
       " 'amount': 1000.0,\n",
       " 'commission_pct': 10,\n",
       " 'phone_numbers': 1234567890}"
      ]
     },
     "execution_count": 93,
     "metadata": {},
     "output_type": "execute_result"
    }
   ],
   "source": [
    "d"
   ]
  },
  {
   "cell_type": "code",
   "execution_count": 94,
   "id": "anticipated-invalid",
   "metadata": {},
   "outputs": [],
   "source": [
    "d['amount'] = 1500.0 # update"
   ]
  },
  {
   "cell_type": "code",
   "execution_count": 95,
   "id": "virgin-chamber",
   "metadata": {},
   "outputs": [
    {
     "data": {
      "text/plain": [
       "{'id': 1,\n",
       " 'first_name': 'Scott',\n",
       " 'last_name': 'Tiger',\n",
       " 'amount': 1500.0,\n",
       " 'commission_pct': 10,\n",
       " 'phone_numbers': 1234567890}"
      ]
     },
     "execution_count": 95,
     "metadata": {},
     "output_type": "execute_result"
    }
   ],
   "source": [
    "d"
   ]
  },
  {
   "cell_type": "code",
   "execution_count": 96,
   "id": "dimensional-script",
   "metadata": {},
   "outputs": [],
   "source": [
    "d = {'id': 1, 'first_name': 'Scott', 'last_name': 'Tiger', 'amount': 1000.0}"
   ]
  },
  {
   "cell_type": "code",
   "execution_count": 97,
   "id": "further-custom",
   "metadata": {},
   "outputs": [
    {
     "data": {
      "text/plain": [
       "1000.0"
      ]
     },
     "execution_count": 97,
     "metadata": {},
     "output_type": "execute_result"
    }
   ],
   "source": [
    "d.setdefault('amount')   # if element exists works like get(), if not existing will add"
   ]
  },
  {
   "cell_type": "code",
   "execution_count": 98,
   "id": "canadian-milwaukee",
   "metadata": {},
   "outputs": [],
   "source": [
    "d.setdefault('commission_pct')"
   ]
  },
  {
   "cell_type": "code",
   "execution_count": 99,
   "id": "abstract-basin",
   "metadata": {},
   "outputs": [
    {
     "data": {
      "text/plain": [
       "{'id': 1,\n",
       " 'first_name': 'Scott',\n",
       " 'last_name': 'Tiger',\n",
       " 'amount': 1000.0,\n",
       " 'commission_pct': None}"
      ]
     },
     "execution_count": 99,
     "metadata": {},
     "output_type": "execute_result"
    }
   ],
   "source": [
    "d"
   ]
  },
  {
   "cell_type": "code",
   "execution_count": 100,
   "id": "catholic-necklace",
   "metadata": {},
   "outputs": [],
   "source": [
    "d = {'id': 1, 'first_name': 'Scott', 'last_name': 'Tiger', 'amount': 1000.0}"
   ]
  },
  {
   "cell_type": "code",
   "execution_count": 101,
   "id": "virgin-pricing",
   "metadata": {},
   "outputs": [
    {
     "data": {
      "text/plain": [
       "0"
      ]
     },
     "execution_count": 101,
     "metadata": {},
     "output_type": "execute_result"
    }
   ],
   "source": [
    "d.setdefault('commission_pct', 0)"
   ]
  },
  {
   "cell_type": "code",
   "execution_count": 102,
   "id": "nuclear-portuguese",
   "metadata": {},
   "outputs": [
    {
     "data": {
      "text/plain": [
       "{'id': 1,\n",
       " 'first_name': 'Scott',\n",
       " 'last_name': 'Tiger',\n",
       " 'amount': 1000.0,\n",
       " 'commission_pct': 0}"
      ]
     },
     "execution_count": 102,
     "metadata": {},
     "output_type": "execute_result"
    }
   ],
   "source": [
    "d"
   ]
  },
  {
   "cell_type": "markdown",
   "id": "limited-enhancement",
   "metadata": {},
   "source": [
    "##### Dictionary unpacking\n",
    "\n",
    "`*` for dictionaries unpacks the keys only."
   ]
  },
  {
   "cell_type": "code",
   "execution_count": 3,
   "id": "mediterranean-employer",
   "metadata": {},
   "outputs": [
    {
     "data": {
      "text/plain": [
       "['key1', 'key2', 'key2', 'key3']"
      ]
     },
     "execution_count": 3,
     "metadata": {},
     "output_type": "execute_result"
    }
   ],
   "source": [
    "d1 = {'key1': 1, 'key2': 2}\n",
    "d2 = {'key2': 3, 'key3': 3}\n",
    "[*d1, *d2]"
   ]
  },
  {
   "cell_type": "code",
   "execution_count": 4,
   "id": "hindu-finland",
   "metadata": {},
   "outputs": [
    {
     "data": {
      "text/plain": [
       "{'key1': 1, 'key2': 3, 'key3': 3}"
      ]
     },
     "execution_count": 4,
     "metadata": {},
     "output_type": "execute_result"
    }
   ],
   "source": [
    "d1 = {'key1': 1, 'key2': 2}\n",
    "d2 = {'key2': 3, 'key3': 3}\n",
    "\n",
    "{**d1, **d2}"
   ]
  },
  {
   "cell_type": "markdown",
   "id": "fitted-circle",
   "metadata": {},
   "source": [
    "Notice what happened to the value of key2. The value for the second occurrence of key2 was retained (overwritten).\n",
    "\n",
    "In fact, if we write the unpacking reversing the order of d1 and d2:"
   ]
  },
  {
   "cell_type": "code",
   "execution_count": 5,
   "id": "bulgarian-delight",
   "metadata": {},
   "outputs": [
    {
     "data": {
      "text/plain": [
       "{'key2': 2, 'key3': 3, 'key1': 1}"
      ]
     },
     "execution_count": 5,
     "metadata": {},
     "output_type": "execute_result"
    }
   ],
   "source": [
    "{**d2, **d1}"
   ]
  },
  {
   "cell_type": "markdown",
   "id": "stupid-beast",
   "metadata": {},
   "source": [
    "\n",
    "we see that the value of key2 is now 2, since it was the second occurrence."
   ]
  },
  {
   "cell_type": "code",
   "execution_count": 103,
   "id": "ordered-violation",
   "metadata": {},
   "outputs": [],
   "source": [
    "d = {'id': 1}"
   ]
  },
  {
   "cell_type": "code",
   "execution_count": 104,
   "id": "novel-directive",
   "metadata": {},
   "outputs": [],
   "source": [
    "d.update({'first_name': 'Donald', 'last_name': 'Duck'})"
   ]
  },
  {
   "cell_type": "code",
   "execution_count": 105,
   "id": "experienced-petite",
   "metadata": {},
   "outputs": [
    {
     "data": {
      "text/plain": [
       "{'id': 1, 'first_name': 'Donald', 'last_name': 'Duck'}"
      ]
     },
     "execution_count": 105,
     "metadata": {},
     "output_type": "execute_result"
    }
   ],
   "source": [
    "d"
   ]
  },
  {
   "cell_type": "code",
   "execution_count": 106,
   "id": "minute-person",
   "metadata": {},
   "outputs": [],
   "source": [
    "d.update([('amount', 1500.0), ('commission_pct', 5), ('phone_numbers', 1234567890)])"
   ]
  },
  {
   "cell_type": "code",
   "execution_count": 107,
   "id": "sunset-warner",
   "metadata": {},
   "outputs": [
    {
     "data": {
      "text/plain": [
       "{'id': 1,\n",
       " 'first_name': 'Donald',\n",
       " 'last_name': 'Duck',\n",
       " 'amount': 1500.0,\n",
       " 'commission_pct': 5,\n",
       " 'phone_numbers': 1234567890}"
      ]
     },
     "execution_count": 107,
     "metadata": {},
     "output_type": "execute_result"
    }
   ],
   "source": [
    "d"
   ]
  },
  {
   "cell_type": "code",
   "execution_count": 108,
   "id": "magnetic-flash",
   "metadata": {},
   "outputs": [
    {
     "data": {
      "text/plain": [
       "1234567890"
      ]
     },
     "execution_count": 108,
     "metadata": {},
     "output_type": "execute_result"
    }
   ],
   "source": [
    "d.pop('phone_numbers')"
   ]
  },
  {
   "cell_type": "code",
   "execution_count": 109,
   "id": "outdoor-sperm",
   "metadata": {},
   "outputs": [
    {
     "data": {
      "text/plain": [
       "{'id': 1,\n",
       " 'first_name': 'Donald',\n",
       " 'last_name': 'Duck',\n",
       " 'amount': 1500.0,\n",
       " 'commission_pct': 5}"
      ]
     },
     "execution_count": 109,
     "metadata": {},
     "output_type": "execute_result"
    }
   ],
   "source": [
    "d"
   ]
  },
  {
   "cell_type": "code",
   "execution_count": 110,
   "id": "linear-store",
   "metadata": {},
   "outputs": [
    {
     "ename": "KeyError",
     "evalue": "'phone_numbers'",
     "output_type": "error",
     "traceback": [
      "\u001b[1;31m---------------------------------------------------------------------------\u001b[0m",
      "\u001b[1;31mKeyError\u001b[0m                                  Traceback (most recent call last)",
      "\u001b[1;32m<ipython-input-110-430dc980e4cd>\u001b[0m in \u001b[0;36m<module>\u001b[1;34m\u001b[0m\n\u001b[1;32m----> 1\u001b[1;33m \u001b[0md\u001b[0m\u001b[1;33m.\u001b[0m\u001b[0mpop\u001b[0m\u001b[1;33m(\u001b[0m\u001b[1;34m'phone_numbers'\u001b[0m\u001b[1;33m)\u001b[0m \u001b[1;31m# throws KeyError\u001b[0m\u001b[1;33m\u001b[0m\u001b[1;33m\u001b[0m\u001b[0m\n\u001b[0m",
      "\u001b[1;31mKeyError\u001b[0m: 'phone_numbers'"
     ]
    }
   ],
   "source": [
    "d.pop('phone_numbers') # throws KeyError"
   ]
  },
  {
   "cell_type": "code",
   "execution_count": 111,
   "id": "ahead-locking",
   "metadata": {},
   "outputs": [
    {
     "data": {
      "text/plain": [
       "'No such key exists'"
      ]
     },
     "execution_count": 111,
     "metadata": {},
     "output_type": "execute_result"
    }
   ],
   "source": [
    "d.pop('phone_numbers', 'No such key exists')"
   ]
  },
  {
   "cell_type": "code",
   "execution_count": 112,
   "id": "limited-funds",
   "metadata": {},
   "outputs": [
    {
     "data": {
      "text/plain": [
       "'Donald'"
      ]
     },
     "execution_count": 112,
     "metadata": {},
     "output_type": "execute_result"
    }
   ],
   "source": [
    "d.pop('first_name')"
   ]
  },
  {
   "cell_type": "code",
   "execution_count": 113,
   "id": "minimal-report",
   "metadata": {},
   "outputs": [
    {
     "data": {
      "text/plain": [
       "{'id': 1, 'last_name': 'Duck', 'amount': 1500.0, 'commission_pct': 5}"
      ]
     },
     "execution_count": 113,
     "metadata": {},
     "output_type": "execute_result"
    }
   ],
   "source": [
    "d"
   ]
  },
  {
   "cell_type": "code",
   "execution_count": 114,
   "id": "retired-prison",
   "metadata": {},
   "outputs": [
    {
     "data": {
      "text/plain": [
       "('commission_pct', 5)"
      ]
     },
     "execution_count": 114,
     "metadata": {},
     "output_type": "execute_result"
    }
   ],
   "source": [
    "d.popitem()"
   ]
  },
  {
   "cell_type": "code",
   "execution_count": 115,
   "id": "straight-constitutional",
   "metadata": {},
   "outputs": [
    {
     "data": {
      "text/plain": [
       "{'id': 1, 'last_name': 'Duck', 'amount': 1500.0}"
      ]
     },
     "execution_count": 115,
     "metadata": {},
     "output_type": "execute_result"
    }
   ],
   "source": [
    "d"
   ]
  },
  {
   "cell_type": "markdown",
   "id": "illegal-application",
   "metadata": {},
   "source": [
    "##### Row level transformations\n",
    "\n",
    "\n",
    "Let us understand how to perform row level transformations using orders data set. Here are the details about orders.\n",
    "* Data is in text file format\n",
    "* Each line in the file contains one record.\n",
    "* Each record contains 4 attributes which are separated by “,”\n",
    "  * order_id\n",
    "  * order_date\n",
    "  * order_customer_id\n",
    "  * order_status"
   ]
  },
  {
   "cell_type": "code",
   "execution_count": 181,
   "id": "effective-impact",
   "metadata": {},
   "outputs": [],
   "source": [
    "path = 'C:\\\\Users\\\\SubhayanGhosh\\\\Desktop\\\\SM\\\\Python\\\\Data\\\\orders\\\\part-00000'\n",
    "orders_file = open(path)"
   ]
  },
  {
   "cell_type": "code",
   "execution_count": 117,
   "id": "narrative-disposal",
   "metadata": {},
   "outputs": [
    {
     "data": {
      "text/plain": [
       "_io.TextIOWrapper"
      ]
     },
     "execution_count": 117,
     "metadata": {},
     "output_type": "execute_result"
    }
   ],
   "source": [
    "type(orders_file)"
   ]
  },
  {
   "cell_type": "code",
   "execution_count": 118,
   "id": "favorite-frontier",
   "metadata": {},
   "outputs": [],
   "source": [
    "orders_raw = orders_file.read() # converts the entire file into a single string"
   ]
  },
  {
   "cell_type": "code",
   "execution_count": 119,
   "id": "cloudy-invasion",
   "metadata": {},
   "outputs": [
    {
     "data": {
      "text/plain": [
       "str"
      ]
     },
     "execution_count": 119,
     "metadata": {},
     "output_type": "execute_result"
    }
   ],
   "source": [
    "type(orders_raw)"
   ]
  },
  {
   "cell_type": "code",
   "execution_count": 120,
   "id": "hidden-offset",
   "metadata": {},
   "outputs": [],
   "source": [
    "orders = orders_raw.splitlines() # entire string is split on newline and a list is formed"
   ]
  },
  {
   "cell_type": "code",
   "execution_count": 121,
   "id": "technological-newfoundland",
   "metadata": {},
   "outputs": [
    {
     "data": {
      "text/plain": [
       "list"
      ]
     },
     "execution_count": 121,
     "metadata": {},
     "output_type": "execute_result"
    }
   ],
   "source": [
    "type(orders)"
   ]
  },
  {
   "cell_type": "code",
   "execution_count": 122,
   "id": "overhead-maryland",
   "metadata": {},
   "outputs": [
    {
     "data": {
      "text/plain": [
       "['1,2013-07-25 00:00:00.0,11599,CLOSED',\n",
       " '2,2013-07-25 00:00:00.0,256,PENDING_PAYMENT',\n",
       " '3,2013-07-25 00:00:00.0,12111,COMPLETE',\n",
       " '4,2013-07-25 00:00:00.0,8827,CLOSED',\n",
       " '5,2013-07-25 00:00:00.0,11318,COMPLETE',\n",
       " '6,2013-07-25 00:00:00.0,7130,COMPLETE',\n",
       " '7,2013-07-25 00:00:00.0,4530,COMPLETE',\n",
       " '8,2013-07-25 00:00:00.0,2911,PROCESSING',\n",
       " '9,2013-07-25 00:00:00.0,5657,PENDING_PAYMENT',\n",
       " '10,2013-07-25 00:00:00.0,5648,PENDING_PAYMENT']"
      ]
     },
     "execution_count": 122,
     "metadata": {},
     "output_type": "execute_result"
    }
   ],
   "source": [
    "orders[:10]"
   ]
  },
  {
   "cell_type": "markdown",
   "id": "aware-aluminum",
   "metadata": {},
   "source": [
    "##### Task 1\n",
    "\n",
    "_Get all order ids and associated statuses. Each record in the output should be comma separated string._"
   ]
  },
  {
   "cell_type": "code",
   "execution_count": 123,
   "id": "intensive-workstation",
   "metadata": {},
   "outputs": [],
   "source": [
    "order = '1,2013-07-25 00:00:00.0,11599,CLOSED' # -> '1,CLOSED'"
   ]
  },
  {
   "cell_type": "code",
   "execution_count": 124,
   "id": "smart-acoustic",
   "metadata": {},
   "outputs": [],
   "source": [
    "order_ids = [order.split(',')[0] for order in orders]"
   ]
  },
  {
   "cell_type": "code",
   "execution_count": 125,
   "id": "dependent-truck",
   "metadata": {},
   "outputs": [],
   "source": [
    "# We invokde join on delimiter"
   ]
  },
  {
   "cell_type": "code",
   "execution_count": 126,
   "id": "entire-convert",
   "metadata": {},
   "outputs": [
    {
     "data": {
      "text/plain": [
       "'1:2:3:4'"
      ]
     },
     "execution_count": 126,
     "metadata": {},
     "output_type": "execute_result"
    }
   ],
   "source": [
    "':'.join(['1', '2', '3', '4'])"
   ]
  },
  {
   "cell_type": "code",
   "execution_count": 127,
   "id": "supported-validation",
   "metadata": {},
   "outputs": [
    {
     "data": {
      "text/plain": [
       "'1'"
      ]
     },
     "execution_count": 127,
     "metadata": {},
     "output_type": "execute_result"
    }
   ],
   "source": [
    "order.split(',')[0]"
   ]
  },
  {
   "cell_type": "code",
   "execution_count": 128,
   "id": "bronze-hopkins",
   "metadata": {},
   "outputs": [
    {
     "data": {
      "text/plain": [
       "'CLOSED'"
      ]
     },
     "execution_count": 128,
     "metadata": {},
     "output_type": "execute_result"
    }
   ],
   "source": [
    "order.split(',')[3]"
   ]
  },
  {
   "cell_type": "code",
   "execution_count": 129,
   "id": "loving-terrain",
   "metadata": {},
   "outputs": [
    {
     "data": {
      "text/plain": [
       "['1', 'CLOSED']"
      ]
     },
     "execution_count": 129,
     "metadata": {},
     "output_type": "execute_result"
    }
   ],
   "source": [
    "[order.split(',')[0], order.split(',')[3]]"
   ]
  },
  {
   "cell_type": "code",
   "execution_count": 130,
   "id": "relative-retro",
   "metadata": {},
   "outputs": [
    {
     "data": {
      "text/plain": [
       "'1,CLOSED'"
      ]
     },
     "execution_count": 130,
     "metadata": {},
     "output_type": "execute_result"
    }
   ],
   "source": [
    "','.join([order.split(',')[0], order.split(',')[3]])"
   ]
  },
  {
   "cell_type": "code",
   "execution_count": 131,
   "id": "welcome-mercury",
   "metadata": {},
   "outputs": [
    {
     "data": {
      "text/plain": [
       "str"
      ]
     },
     "execution_count": 131,
     "metadata": {},
     "output_type": "execute_result"
    }
   ],
   "source": [
    "type(','.join([order.split(',')[0], order.split(',')[3]]))"
   ]
  },
  {
   "cell_type": "code",
   "execution_count": 132,
   "id": "destroyed-behavior",
   "metadata": {},
   "outputs": [],
   "source": [
    "order_statuses = []\n",
    "for order in orders:\n",
    "    order_statuses.append(','.join([order.split(',')[0], order.split(',')[3]]))"
   ]
  },
  {
   "cell_type": "code",
   "execution_count": 133,
   "id": "defined-plate",
   "metadata": {},
   "outputs": [
    {
     "data": {
      "text/plain": [
       "['1,CLOSED',\n",
       " '2,PENDING_PAYMENT',\n",
       " '3,COMPLETE',\n",
       " '4,CLOSED',\n",
       " '5,COMPLETE',\n",
       " '6,COMPLETE',\n",
       " '7,COMPLETE',\n",
       " '8,PROCESSING',\n",
       " '9,PENDING_PAYMENT',\n",
       " '10,PENDING_PAYMENT']"
      ]
     },
     "execution_count": 133,
     "metadata": {},
     "output_type": "execute_result"
    }
   ],
   "source": [
    "order_statuses[:10]"
   ]
  },
  {
   "cell_type": "code",
   "execution_count": 134,
   "id": "charming-container",
   "metadata": {},
   "outputs": [],
   "source": [
    "order_statuses = [','.join([order.split(',')[0], order.split(',')[3]]) for order in orders]"
   ]
  },
  {
   "cell_type": "code",
   "execution_count": 135,
   "id": "incomplete-management",
   "metadata": {},
   "outputs": [
    {
     "data": {
      "text/plain": [
       "['1,CLOSED',\n",
       " '2,PENDING_PAYMENT',\n",
       " '3,COMPLETE',\n",
       " '4,CLOSED',\n",
       " '5,COMPLETE',\n",
       " '6,COMPLETE',\n",
       " '7,COMPLETE',\n",
       " '8,PROCESSING',\n",
       " '9,PENDING_PAYMENT',\n",
       " '10,PENDING_PAYMENT']"
      ]
     },
     "execution_count": 135,
     "metadata": {},
     "output_type": "execute_result"
    }
   ],
   "source": [
    "order_statuses[:10]"
   ]
  },
  {
   "cell_type": "markdown",
   "id": "checked-paintball",
   "metadata": {},
   "source": [
    "##### Task 2\n",
    "\n",
    "Get all order ids, the dates on which order is placed and order status. Each record in the output should be dict with following column names as keys.\n",
    "* order_id\n",
    "* order_date\n",
    "* order_status"
   ]
  },
  {
   "cell_type": "code",
   "execution_count": 136,
   "id": "eastern-stick",
   "metadata": {},
   "outputs": [],
   "source": [
    "def get_order_details(order):\n",
    "    \"\"\"Extract order details such as id, date as well as status and return as dict\"\"\"\n",
    "    order_values = order.split(',')\n",
    "    return ({\n",
    "        'order_id': int(order_values[0]),\n",
    "        'order_date': order_values[1],\n",
    "        'order_status': order_values[3]\n",
    "    })"
   ]
  },
  {
   "cell_type": "code",
   "execution_count": 137,
   "id": "stone-preview",
   "metadata": {},
   "outputs": [
    {
     "data": {
      "text/plain": [
       "{'order_id': 1,\n",
       " 'order_date': '2013-07-25 00:00:00.0',\n",
       " 'order_status': 'CLOSED'}"
      ]
     },
     "execution_count": 137,
     "metadata": {},
     "output_type": "execute_result"
    }
   ],
   "source": [
    "get_order_details('1,2013-07-25 00:00:00.0,11599,CLOSED')"
   ]
  },
  {
   "cell_type": "code",
   "execution_count": 138,
   "id": "later-arizona",
   "metadata": {},
   "outputs": [],
   "source": [
    "order_details = []\n",
    "for order in orders:\n",
    "    order_details.append(get_order_details(order))"
   ]
  },
  {
   "cell_type": "code",
   "execution_count": 139,
   "id": "attractive-guess",
   "metadata": {},
   "outputs": [
    {
     "data": {
      "text/plain": [
       "[{'order_id': 1,\n",
       "  'order_date': '2013-07-25 00:00:00.0',\n",
       "  'order_status': 'CLOSED'},\n",
       " {'order_id': 2,\n",
       "  'order_date': '2013-07-25 00:00:00.0',\n",
       "  'order_status': 'PENDING_PAYMENT'},\n",
       " {'order_id': 3,\n",
       "  'order_date': '2013-07-25 00:00:00.0',\n",
       "  'order_status': 'COMPLETE'},\n",
       " {'order_id': 4,\n",
       "  'order_date': '2013-07-25 00:00:00.0',\n",
       "  'order_status': 'CLOSED'},\n",
       " {'order_id': 5,\n",
       "  'order_date': '2013-07-25 00:00:00.0',\n",
       "  'order_status': 'COMPLETE'}]"
      ]
     },
     "execution_count": 139,
     "metadata": {},
     "output_type": "execute_result"
    }
   ],
   "source": [
    "order_details[:5]"
   ]
  },
  {
   "cell_type": "code",
   "execution_count": 140,
   "id": "expected-potter",
   "metadata": {},
   "outputs": [
    {
     "data": {
      "text/plain": [
       "68883"
      ]
     },
     "execution_count": 140,
     "metadata": {},
     "output_type": "execute_result"
    }
   ],
   "source": [
    "len(order_details)  # validate"
   ]
  },
  {
   "cell_type": "markdown",
   "id": "modular-nowhere",
   "metadata": {},
   "source": [
    "##### store unique dates"
   ]
  },
  {
   "cell_type": "code",
   "execution_count": 141,
   "id": "complicated-level",
   "metadata": {},
   "outputs": [],
   "source": [
    "order_dates = {}"
   ]
  },
  {
   "cell_type": "code",
   "execution_count": 142,
   "id": "worse-tonight",
   "metadata": {},
   "outputs": [
    {
     "data": {
      "text/plain": [
       "dict"
      ]
     },
     "execution_count": 142,
     "metadata": {},
     "output_type": "execute_result"
    }
   ],
   "source": [
    "type(order_dates)"
   ]
  },
  {
   "cell_type": "code",
   "execution_count": 143,
   "id": "exclusive-toronto",
   "metadata": {},
   "outputs": [],
   "source": [
    "order_dates = set()"
   ]
  },
  {
   "cell_type": "code",
   "execution_count": 144,
   "id": "liked-consequence",
   "metadata": {},
   "outputs": [
    {
     "data": {
      "text/plain": [
       "set"
      ]
     },
     "execution_count": 144,
     "metadata": {},
     "output_type": "execute_result"
    }
   ],
   "source": [
    "type(order_dates)"
   ]
  },
  {
   "cell_type": "code",
   "execution_count": 145,
   "id": "legendary-longer",
   "metadata": {},
   "outputs": [],
   "source": [
    "for order in orders:\n",
    "    order_dates.add(order.split(',')[1])"
   ]
  },
  {
   "cell_type": "code",
   "execution_count": 146,
   "id": "agreed-passing",
   "metadata": {},
   "outputs": [
    {
     "data": {
      "text/plain": [
       "['2013-12-06 00:00:00.0',\n",
       " '2013-08-16 00:00:00.0',\n",
       " '2013-08-27 00:00:00.0',\n",
       " '2013-09-09 00:00:00.0',\n",
       " '2014-06-09 00:00:00.0',\n",
       " '2014-04-08 00:00:00.0',\n",
       " '2013-09-07 00:00:00.0',\n",
       " '2014-05-01 00:00:00.0',\n",
       " '2013-11-12 00:00:00.0',\n",
       " '2014-02-11 00:00:00.0']"
      ]
     },
     "execution_count": 146,
     "metadata": {},
     "output_type": "execute_result"
    }
   ],
   "source": [
    "list(order_dates)[:10]"
   ]
  },
  {
   "cell_type": "code",
   "execution_count": 147,
   "id": "difficult-buying",
   "metadata": {},
   "outputs": [],
   "source": [
    "order_dates = {order.split(',')[1] for order in orders}"
   ]
  },
  {
   "cell_type": "code",
   "execution_count": 148,
   "id": "adjusted-burlington",
   "metadata": {},
   "outputs": [
    {
     "data": {
      "text/plain": [
       "['2013-12-06 00:00:00.0',\n",
       " '2013-08-16 00:00:00.0',\n",
       " '2013-08-27 00:00:00.0',\n",
       " '2013-09-09 00:00:00.0',\n",
       " '2014-06-09 00:00:00.0',\n",
       " '2014-04-08 00:00:00.0',\n",
       " '2013-09-07 00:00:00.0',\n",
       " '2014-05-01 00:00:00.0',\n",
       " '2013-11-12 00:00:00.0',\n",
       " '2014-02-11 00:00:00.0']"
      ]
     },
     "execution_count": 148,
     "metadata": {},
     "output_type": "execute_result"
    }
   ],
   "source": [
    "list(order_dates)[:10]"
   ]
  },
  {
   "cell_type": "markdown",
   "id": "universal-browse",
   "metadata": {},
   "source": [
    "##### Get all unique weekend dates"
   ]
  },
  {
   "cell_type": "code",
   "execution_count": 149,
   "id": "precise-neighborhood",
   "metadata": {},
   "outputs": [],
   "source": [
    "order_date = '2014-01-25 00:00:00.0'"
   ]
  },
  {
   "cell_type": "code",
   "execution_count": 150,
   "id": "cooked-counter",
   "metadata": {},
   "outputs": [],
   "source": [
    "import datetime as dt"
   ]
  },
  {
   "cell_type": "code",
   "execution_count": 151,
   "id": "unable-termination",
   "metadata": {},
   "outputs": [
    {
     "data": {
      "text/plain": [
       "datetime.datetime(2014, 1, 25, 0, 0)"
      ]
     },
     "execution_count": 151,
     "metadata": {},
     "output_type": "execute_result"
    }
   ],
   "source": [
    "dt.datetime.strptime(order_date, '%Y-%m-%d %H:%M:%S.%f')"
   ]
  },
  {
   "cell_type": "code",
   "execution_count": 152,
   "id": "toxic-transformation",
   "metadata": {},
   "outputs": [],
   "source": [
    "d = dt.datetime.strptime(order_date, '%Y-%m-%d %H:%M:%S.%f')"
   ]
  },
  {
   "cell_type": "code",
   "execution_count": 153,
   "id": "northern-moral",
   "metadata": {},
   "outputs": [],
   "source": [
    "d.weekday?"
   ]
  },
  {
   "cell_type": "code",
   "execution_count": 154,
   "id": "sixth-andorra",
   "metadata": {},
   "outputs": [
    {
     "data": {
      "text/plain": [
       "5"
      ]
     },
     "execution_count": 154,
     "metadata": {},
     "output_type": "execute_result"
    }
   ],
   "source": [
    "dt.datetime.strptime(order_date, '%Y-%m-%d %H:%M:%S.%f').weekday() # Returns 0 to 6 (for Monday to Sunday)"
   ]
  },
  {
   "cell_type": "code",
   "execution_count": 155,
   "id": "declared-arena",
   "metadata": {},
   "outputs": [],
   "source": [
    "import calendar"
   ]
  },
  {
   "cell_type": "code",
   "execution_count": 156,
   "id": "sought-metabolism",
   "metadata": {},
   "outputs": [
    {
     "data": {
      "text/plain": [
       "['Monday', 'Tuesday', 'Wednesday', 'Thursday', 'Friday', 'Saturday', 'Sunday']"
      ]
     },
     "execution_count": 156,
     "metadata": {},
     "output_type": "execute_result"
    }
   ],
   "source": [
    "list(calendar.day_name)"
   ]
  },
  {
   "cell_type": "code",
   "execution_count": 157,
   "id": "manufactured-papua",
   "metadata": {},
   "outputs": [
    {
     "data": {
      "text/plain": [
       "'Saturday'"
      ]
     },
     "execution_count": 157,
     "metadata": {},
     "output_type": "execute_result"
    }
   ],
   "source": [
    "calendar.day_name[5]"
   ]
  },
  {
   "cell_type": "code",
   "execution_count": 158,
   "id": "central-child",
   "metadata": {},
   "outputs": [
    {
     "data": {
      "text/plain": [
       "'Saturday'"
      ]
     },
     "execution_count": 158,
     "metadata": {},
     "output_type": "execute_result"
    }
   ],
   "source": [
    "calendar.day_name[dt.datetime.strptime(order_date, '%Y-%m-%d %H:%M:%S.%f').weekday()]"
   ]
  },
  {
   "cell_type": "code",
   "execution_count": 159,
   "id": "dental-attraction",
   "metadata": {},
   "outputs": [
    {
     "data": {
      "text/plain": [
       "'Sat'"
      ]
     },
     "execution_count": 159,
     "metadata": {},
     "output_type": "execute_result"
    }
   ],
   "source": [
    "calendar.day_abbr[dt.datetime.strptime(order_date, '%Y-%m-%d %H:%M:%S.%f').weekday()]"
   ]
  },
  {
   "cell_type": "code",
   "execution_count": 160,
   "id": "earned-newfoundland",
   "metadata": {},
   "outputs": [
    {
     "data": {
      "text/plain": [
       "True"
      ]
     },
     "execution_count": 160,
     "metadata": {},
     "output_type": "execute_result"
    }
   ],
   "source": [
    "dt.datetime.strptime(order_date, '%Y-%m-%d %H:%M:%S.%f').weekday() in (5, 6)"
   ]
  },
  {
   "cell_type": "code",
   "execution_count": 161,
   "id": "sporting-solid",
   "metadata": {},
   "outputs": [],
   "source": [
    "import datetime as dt\n",
    "def is_weekend(order_date):\n",
    "    return dt.datetime.strptime(order_date, '%Y-%m-%d %H:%M:%S.%f').weekday() in (5, 6)"
   ]
  },
  {
   "cell_type": "code",
   "execution_count": 162,
   "id": "determined-argument",
   "metadata": {},
   "outputs": [
    {
     "data": {
      "text/plain": [
       "True"
      ]
     },
     "execution_count": 162,
     "metadata": {},
     "output_type": "execute_result"
    }
   ],
   "source": [
    "is_weekend('2014-01-25 00:00:00.0')"
   ]
  },
  {
   "cell_type": "code",
   "execution_count": 163,
   "id": "biological-commission",
   "metadata": {},
   "outputs": [
    {
     "data": {
      "text/plain": [
       "False"
      ]
     },
     "execution_count": 163,
     "metadata": {},
     "output_type": "execute_result"
    }
   ],
   "source": [
    "is_weekend('2014-01-22 00:00:00.0')"
   ]
  },
  {
   "cell_type": "code",
   "execution_count": 164,
   "id": "extensive-check",
   "metadata": {},
   "outputs": [],
   "source": [
    "weekend_dates = set()\n",
    "for order in orders:\n",
    "    order_date = order.split(',')[1]\n",
    "    if is_weekend(order_date):\n",
    "        weekend_dates.add(order_date)"
   ]
  },
  {
   "cell_type": "code",
   "execution_count": 165,
   "id": "caroline-fetish",
   "metadata": {},
   "outputs": [
    {
     "data": {
      "text/plain": [
       "['2013-11-24 00:00:00.0',\n",
       " '2014-06-15 00:00:00.0',\n",
       " '2013-09-01 00:00:00.0',\n",
       " '2013-11-17 00:00:00.0',\n",
       " '2014-01-19 00:00:00.0',\n",
       " '2014-03-29 00:00:00.0',\n",
       " '2014-07-19 00:00:00.0',\n",
       " '2014-01-25 00:00:00.0',\n",
       " '2013-09-07 00:00:00.0',\n",
       " '2013-12-07 00:00:00.0']"
      ]
     },
     "execution_count": 165,
     "metadata": {},
     "output_type": "execute_result"
    }
   ],
   "source": [
    "list(weekend_dates)[:10]"
   ]
  },
  {
   "cell_type": "code",
   "execution_count": 166,
   "id": "studied-sense",
   "metadata": {},
   "outputs": [
    {
     "data": {
      "text/plain": [
       "103"
      ]
     },
     "execution_count": 166,
     "metadata": {},
     "output_type": "execute_result"
    }
   ],
   "source": [
    "len(weekend_dates)"
   ]
  },
  {
   "cell_type": "markdown",
   "id": "oriental-heaven",
   "metadata": {},
   "source": [
    "##### Task 3\n",
    "\n",
    "Create a function by name get_customer_orders which take orders list and customer_id as arguments and return all the orders placed by customer_id"
   ]
  },
  {
   "cell_type": "code",
   "execution_count": 167,
   "id": "registered-gamma",
   "metadata": {},
   "outputs": [],
   "source": [
    "def get_customer_orders(orders, customer_id):\n",
    "    orders_filtered = []\n",
    "    for order in orders:\n",
    "        if int(order.split(',')[2]) == customer_id:\n",
    "            orders_filtered.append(order)\n",
    "    return orders_filtered"
   ]
  },
  {
   "cell_type": "code",
   "execution_count": 168,
   "id": "behavioral-indianapolis",
   "metadata": {},
   "outputs": [
    {
     "data": {
      "text/plain": [
       "['3774,2013-08-16 00:00:00.0,12431,CANCELED',\n",
       " '3870,2013-08-17 00:00:00.0,12431,PENDING_PAYMENT',\n",
       " '4032,2013-08-17 00:00:00.0,12431,ON_HOLD',\n",
       " '22812,2013-12-12 00:00:00.0,12431,PENDING',\n",
       " '22927,2013-12-13 00:00:00.0,12431,CLOSED',\n",
       " '25614,2013-12-30 00:00:00.0,12431,CLOSED',\n",
       " '27585,2014-01-12 00:00:00.0,12431,PROCESSING',\n",
       " '28244,2014-01-15 00:00:00.0,12431,PENDING_PAYMENT',\n",
       " '29109,2014-01-21 00:00:00.0,12431,ON_HOLD',\n",
       " '29232,2014-01-21 00:00:00.0,12431,ON_HOLD',\n",
       " '45894,2014-05-06 00:00:00.0,12431,CLOSED',\n",
       " '46217,2014-05-07 00:00:00.0,12431,CLOSED',\n",
       " '49678,2014-05-31 00:00:00.0,12431,PENDING',\n",
       " '51865,2014-06-15 00:00:00.0,12431,PROCESSING',\n",
       " '63146,2014-02-13 00:00:00.0,12431,PENDING_PAYMENT',\n",
       " '67110,2014-07-14 00:00:00.0,12431,PENDING']"
      ]
     },
     "execution_count": 168,
     "metadata": {},
     "output_type": "execute_result"
    }
   ],
   "source": [
    "# Use the function and get all the orders which are placed by customer with id 12431\n",
    "get_customer_orders(orders, 12431)"
   ]
  },
  {
   "cell_type": "markdown",
   "id": "coastal-cooper",
   "metadata": {},
   "source": [
    "##### Task4\n",
    "\n",
    "Create a function by name get_customer_orders_for_month which take orders list, customer_id and month in the format YYYY-MM as arguments and return all the orders placed by customer_id for a given month."
   ]
  },
  {
   "cell_type": "code",
   "execution_count": 169,
   "id": "speaking-virginia",
   "metadata": {},
   "outputs": [],
   "source": [
    "order = '3,2013-07-25 00:00:00.0,12111,COMPLETE'"
   ]
  },
  {
   "cell_type": "code",
   "execution_count": 170,
   "id": "chinese-telling",
   "metadata": {},
   "outputs": [
    {
     "data": {
      "text/plain": [
       "True"
      ]
     },
     "execution_count": 170,
     "metadata": {},
     "output_type": "execute_result"
    }
   ],
   "source": [
    "order.split(',')[1].startswith('2013-07')"
   ]
  },
  {
   "cell_type": "code",
   "execution_count": 171,
   "id": "monetary-neighbor",
   "metadata": {},
   "outputs": [],
   "source": [
    "import datetime as dt\n",
    "d = dt.datetime.strptime(order.split(',')[1], '%Y-%m-%d %H:%M:%S.%f')"
   ]
  },
  {
   "cell_type": "code",
   "execution_count": 172,
   "id": "enclosed-grant",
   "metadata": {},
   "outputs": [
    {
     "data": {
      "text/plain": [
       "True"
      ]
     },
     "execution_count": 172,
     "metadata": {},
     "output_type": "execute_result"
    }
   ],
   "source": [
    "d.year == 2013 and d.month == 7"
   ]
  },
  {
   "cell_type": "code",
   "execution_count": 173,
   "id": "sized-trash",
   "metadata": {},
   "outputs": [
    {
     "data": {
      "text/plain": [
       "True"
      ]
     },
     "execution_count": 173,
     "metadata": {},
     "output_type": "execute_result"
    }
   ],
   "source": [
    "int(order.split(',')[2]) == 12111 and order.split(',')[1].startswith('2013-07')"
   ]
  },
  {
   "cell_type": "code",
   "execution_count": 174,
   "id": "exotic-canada",
   "metadata": {},
   "outputs": [],
   "source": [
    "def get_customer_orders_for_month(orders, customer_id, order_month):\n",
    "    orders_filtered = []\n",
    "    for order in orders:\n",
    "        order_elements = order.split(',')\n",
    "        if (int(order_elements[2]) == customer_id and\n",
    "            order_elements[1].startswith(order_month)):\n",
    "            orders_filtered.append(order)\n",
    "    return orders_filtered"
   ]
  },
  {
   "cell_type": "code",
   "execution_count": 175,
   "id": "elder-finance",
   "metadata": {},
   "outputs": [
    {
     "data": {
      "text/plain": [
       "['27585,2014-01-12 00:00:00.0,12431,PROCESSING',\n",
       " '28244,2014-01-15 00:00:00.0,12431,PENDING_PAYMENT',\n",
       " '29109,2014-01-21 00:00:00.0,12431,ON_HOLD',\n",
       " '29232,2014-01-21 00:00:00.0,12431,ON_HOLD']"
      ]
     },
     "execution_count": 175,
     "metadata": {},
     "output_type": "execute_result"
    }
   ],
   "source": [
    "# Use the function and get all the orders which are placed by customer with id 12431 in January 2014\n",
    "get_customer_orders_for_month(orders, 12431, '2014-01')"
   ]
  },
  {
   "cell_type": "markdown",
   "id": "appointed-assumption",
   "metadata": {},
   "source": [
    "##### Task 5\n",
    "\n",
    "Write ad hoc code to get all the orders which are placed by customer with id 12431 in January 2014 and status is in PENDING_PAYMENT or PROCESSING"
   ]
  },
  {
   "cell_type": "code",
   "execution_count": 176,
   "id": "identical-dream",
   "metadata": {},
   "outputs": [
    {
     "name": "stdout",
     "output_type": "stream",
     "text": [
      "27585,2014-01-12 00:00:00.0,12431,PROCESSING\n",
      "28244,2014-01-15 00:00:00.0,12431,PENDING_PAYMENT\n"
     ]
    }
   ],
   "source": [
    "for order in orders:\n",
    "    order_elements = order.split(',')\n",
    "    if int(order_elements[2]) == 12431 \\\n",
    "        and order_elements[1].startswith('2014-01') \\\n",
    "        and (order_elements[3] in ('PROCESSING', 'PENDING_PAYMENT')):\n",
    "        print(order)"
   ]
  },
  {
   "cell_type": "markdown",
   "id": "genuine-gasoline",
   "metadata": {},
   "source": [
    "##### Performing total aggregates"
   ]
  },
  {
   "cell_type": "code",
   "execution_count": 182,
   "id": "illegal-professor",
   "metadata": {},
   "outputs": [],
   "source": [
    "# read the dataset loading notebook\n",
    "\n",
    "%run load_dataset.ipynb"
   ]
  },
  {
   "cell_type": "code",
   "execution_count": 185,
   "id": "compatible-humanitarian",
   "metadata": {},
   "outputs": [
    {
     "data": {
      "text/plain": [
       "['1,2013-07-25 00:00:00.0,11599,CLOSED',\n",
       " '2,2013-07-25 00:00:00.0,256,PENDING_PAYMENT',\n",
       " '3,2013-07-25 00:00:00.0,12111,COMPLETE',\n",
       " '4,2013-07-25 00:00:00.0,8827,CLOSED',\n",
       " '5,2013-07-25 00:00:00.0,11318,COMPLETE',\n",
       " '6,2013-07-25 00:00:00.0,7130,COMPLETE',\n",
       " '7,2013-07-25 00:00:00.0,4530,COMPLETE',\n",
       " '8,2013-07-25 00:00:00.0,2911,PROCESSING',\n",
       " '9,2013-07-25 00:00:00.0,5657,PENDING_PAYMENT',\n",
       " '10,2013-07-25 00:00:00.0,5648,PENDING_PAYMENT']"
      ]
     },
     "execution_count": 185,
     "metadata": {},
     "output_type": "execute_result"
    }
   ],
   "source": [
    "orders[:10]"
   ]
  },
  {
   "cell_type": "code",
   "execution_count": 184,
   "id": "accredited-little",
   "metadata": {},
   "outputs": [
    {
     "data": {
      "text/plain": [
       "['1,1,957,1,299.98,299.98',\n",
       " '2,2,1073,1,199.99,199.99',\n",
       " '3,2,502,5,250.0,50.0',\n",
       " '4,2,403,1,129.99,129.99',\n",
       " '5,4,897,2,49.98,24.99',\n",
       " '6,4,365,5,299.95,59.99',\n",
       " '7,4,502,3,150.0,50.0',\n",
       " '8,4,1014,4,199.92,49.98',\n",
       " '9,5,957,1,299.98,299.98',\n",
       " '10,5,365,5,299.95,59.99']"
      ]
     },
     "execution_count": 184,
     "metadata": {},
     "output_type": "execute_result"
    }
   ],
   "source": [
    "order_items[:10]"
   ]
  },
  {
   "cell_type": "markdown",
   "id": "figured-photographer",
   "metadata": {},
   "source": [
    "##### Nested unpacking"
   ]
  },
  {
   "cell_type": "code",
   "execution_count": 6,
   "id": "persistent-stereo",
   "metadata": {},
   "outputs": [
    {
     "name": "stdout",
     "output_type": "stream",
     "text": [
      "1\n",
      "2\n",
      "X\n",
      "Y\n"
     ]
    }
   ],
   "source": [
    "a, b, (c, d) = [1, 2, ['X', 'Y']]\n",
    "print(a)\n",
    "print(b)\n",
    "print(c)\n",
    "print(d)"
   ]
  },
  {
   "cell_type": "code",
   "execution_count": 8,
   "id": "accomplished-cycling",
   "metadata": {},
   "outputs": [
    {
     "name": "stdout",
     "output_type": "stream",
     "text": [
      "1\n",
      "2\n",
      "X\n",
      "Y\n"
     ]
    }
   ],
   "source": [
    "a, b, (c, d) = [1, 2, 'XY']\n",
    "print(a)\n",
    "print(b)\n",
    "print(c)\n",
    "print(d)"
   ]
  },
  {
   "cell_type": "code",
   "execution_count": 9,
   "id": "thermal-sport",
   "metadata": {},
   "outputs": [
    {
     "name": "stdout",
     "output_type": "stream",
     "text": [
      "1\n",
      "2\n",
      "p\n",
      "y\n",
      "['t', 'h', 'o', 'n']\n"
     ]
    }
   ],
   "source": [
    "a, b, (c, d, *e) = [1, 2, 'python']\n",
    "print(a)\n",
    "print(b)\n",
    "print(c)\n",
    "print(d)\n",
    "print(e)"
   ]
  },
  {
   "cell_type": "code",
   "execution_count": 10,
   "id": "freelance-scottish",
   "metadata": {},
   "outputs": [
    {
     "name": "stdout",
     "output_type": "stream",
     "text": [
      "1\n",
      "[2, 3]\n",
      "p\n",
      "y\n",
      "['t', 'h', 'o', 'n']\n"
     ]
    }
   ],
   "source": [
    "a, *b, (c, d, *e) = [1, 2, 3, 'python']\n",
    "print(a)\n",
    "print(b)\n",
    "print(c)\n",
    "print(d)\n",
    "print(e)"
   ]
  },
  {
   "cell_type": "code",
   "execution_count": null,
   "id": "present-trick",
   "metadata": {},
   "outputs": [],
   "source": []
  }
 ],
 "metadata": {
  "kernelspec": {
   "display_name": "Python 3",
   "language": "python",
   "name": "python3"
  },
  "language_info": {
   "codemirror_mode": {
    "name": "ipython",
    "version": 3
   },
   "file_extension": ".py",
   "mimetype": "text/x-python",
   "name": "python",
   "nbconvert_exporter": "python",
   "pygments_lexer": "ipython3",
   "version": "3.8.5"
  }
 },
 "nbformat": 4,
 "nbformat_minor": 5
}
