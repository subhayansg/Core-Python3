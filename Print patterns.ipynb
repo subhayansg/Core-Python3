{
 "cells": [
  {
   "cell_type": "markdown",
   "metadata": {},
   "source": [
    "#### 1. https://pynative.com/print-pattern-python-examples/\n",
    "#### 2. https://www.programminginpython.com/pyramid-pattern-python/\n",
    "#### 3. https://www.geeksforgeeks.org/programs-printing-pyramid-patterns-python/\n",
    "#### 4. https://www.edureka.co/blog/python-pattern-programs/"
   ]
  },
  {
   "cell_type": "code",
   "execution_count": 1,
   "metadata": {
    "scrolled": true
   },
   "outputs": [
    {
     "name": "stdout",
     "output_type": "stream",
     "text": [
      "\n",
      "1 \n",
      "2 2 \n",
      "3 3 3 \n",
      "4 4 4 4 \n",
      "5 5 5 5 5 \n",
      "6 6 6 6 6 6 \n",
      "7 7 7 7 7 7 7 \n",
      "8 8 8 8 8 8 8 8 \n",
      "9 9 9 9 9 9 9 9 9 \n"
     ]
    }
   ],
   "source": [
    "# 10 is the total number to print\n",
    "for row in range(10):\n",
    "    for column in range(row):\n",
    "        print (row, end=\" \") #print number\n",
    "    # new line after each row to display pattern correctly\n",
    "    print(\"\")"
   ]
  },
  {
   "cell_type": "code",
   "execution_count": 2,
   "metadata": {},
   "outputs": [
    {
     "name": "stdout",
     "output_type": "stream",
     "text": [
      "5\n",
      "\n",
      "1 \n",
      "1 2 \n",
      "1 2 3 \n",
      "1 2 3 4 \n"
     ]
    }
   ],
   "source": [
    "last_number = int(input())\n",
    "for row in range(last_number):\n",
    "    for column in range(1, row+1):\n",
    "        print(column, end=' ')\n",
    "    print('')"
   ]
  },
  {
   "cell_type": "code",
   "execution_count": 3,
   "metadata": {},
   "outputs": [
    {
     "name": "stdout",
     "output_type": "stream",
     "text": [
      "5\n",
      "\n",
      "1 \n",
      "2 1 \n",
      "3 2 1 \n",
      "4 3 2 1 \n"
     ]
    }
   ],
   "source": [
    "last_number = int(input())\n",
    "for row in range(last_number):\n",
    "    for column in range(row, 0, -1):\n",
    "        print(column, end=' ')\n",
    "    print('')"
   ]
  },
  {
   "cell_type": "code",
   "execution_count": 15,
   "metadata": {},
   "outputs": [
    {
     "name": "stdout",
     "output_type": "stream",
     "text": [
      "5\n",
      "\n",
      "* \n",
      "* * \n",
      "* * * \n",
      "* * * * \n"
     ]
    }
   ],
   "source": [
    "last_number = int(input())\n",
    "for row in range(last_number):\n",
    "    #     for column in range(row, 0, -1):\n",
    "      for column in range(1,row+1, 1):\n",
    "        print('*', end=' ')\n",
    "      print('')"
   ]
  },
  {
   "cell_type": "code",
   "execution_count": 16,
   "metadata": {},
   "outputs": [
    {
     "name": "stdout",
     "output_type": "stream",
     "text": [
      "5\n",
      "   1 \n",
      "   2    1 \n",
      "   4    2    1 \n",
      "   8    4    2    1 \n",
      "  16    8    4    2    1 \n"
     ]
    }
   ],
   "source": [
    "two_to_the_pow = int(input())\n",
    "for row in range(two_to_the_pow):\n",
    "    for column in range(row, -1, -1):\n",
    "        print(format(2**column, '4d'), end = ' ')\n",
    "    print('')"
   ]
  },
  {
   "cell_type": "code",
   "execution_count": 17,
   "metadata": {},
   "outputs": [
    {
     "name": "stdout",
     "output_type": "stream",
     "text": [
      "0, 1, 2, 3, 4\n"
     ]
    }
   ],
   "source": [
    "li = list()\n",
    "for i in range(5):\n",
    "    li.append(i)\n",
    "print(str(li).strip('[]'))"
   ]
  },
  {
   "cell_type": "code",
   "execution_count": null,
   "metadata": {},
   "outputs": [],
   "source": []
  }
 ],
 "metadata": {
  "kernelspec": {
   "display_name": "Python 3",
   "language": "python",
   "name": "python3"
  },
  "language_info": {
   "codemirror_mode": {
    "name": "ipython",
    "version": 3
   },
   "file_extension": ".py",
   "mimetype": "text/x-python",
   "name": "python",
   "nbconvert_exporter": "python",
   "pygments_lexer": "ipython3",
   "version": "3.7.6"
  }
 },
 "nbformat": 4,
 "nbformat_minor": 4
}
